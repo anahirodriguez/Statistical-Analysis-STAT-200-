{
 "cells": [
  {
   "cell_type": "markdown",
   "metadata": {},
   "source": [
    "# STAT 207 Lab 9: Linear Regression - [25 total points] - Solutions"
   ]
  },
  {
   "cell_type": "markdown",
   "metadata": {},
   "source": [
    "Due: Wednesday, April 7 11:59pm CST\n",
    "\n",
    "\n",
    "\n",
    "## <u>Case Study </u>: Weekend Smoking Habits of U.K. Smokers\n",
    "We are interested in learning more about the relationship between how many cigarettes U.K. smokers smoke on the weekends and the following additional factors:\n",
    "* the amount they smoke the weekdays\n",
    "* age\n",
    "* marital status\n",
    "* sex.\n",
    "\n",
    "Specifically, we would like to see if these variables can predict the amount that U.K. smokers smoke on the weekends.\n",
    "\n",
    "The smoking.csv dataset contains a random sample of 421 U.K. smokers.\n"
   ]
  },
  {
   "cell_type": "markdown",
   "metadata": {},
   "source": [
    "### Imports"
   ]
  },
  {
   "cell_type": "code",
   "execution_count": 1,
   "metadata": {},
   "outputs": [],
   "source": [
    "import pandas as pd\n",
    "import numpy as np\n",
    "import matplotlib.pyplot as plt\n",
    "import seaborn as sns; sns.set()\n",
    "import statsmodels.api as sm\n",
    "import statsmodels.formula.api as smf"
   ]
  },
  {
   "cell_type": "markdown",
   "metadata": {},
   "source": [
    "### Read in the smoking.csv into a dataframe."
   ]
  },
  {
   "cell_type": "code",
   "execution_count": 2,
   "metadata": {},
   "outputs": [
    {
     "data": {
      "text/html": [
       "<div>\n",
       "<style scoped>\n",
       "    .dataframe tbody tr th:only-of-type {\n",
       "        vertical-align: middle;\n",
       "    }\n",
       "\n",
       "    .dataframe tbody tr th {\n",
       "        vertical-align: top;\n",
       "    }\n",
       "\n",
       "    .dataframe thead th {\n",
       "        text-align: right;\n",
       "    }\n",
       "</style>\n",
       "<table border=\"1\" class=\"dataframe\">\n",
       "  <thead>\n",
       "    <tr style=\"text-align: right;\">\n",
       "      <th></th>\n",
       "      <th>sex</th>\n",
       "      <th>age</th>\n",
       "      <th>marital_status</th>\n",
       "      <th>highest_qualification</th>\n",
       "      <th>nationality</th>\n",
       "      <th>gross_income</th>\n",
       "      <th>region</th>\n",
       "      <th>smoke</th>\n",
       "      <th>amt_weekends</th>\n",
       "      <th>amt_weekdays</th>\n",
       "      <th>type</th>\n",
       "    </tr>\n",
       "  </thead>\n",
       "  <tbody>\n",
       "    <tr>\n",
       "      <th>0</th>\n",
       "      <td>Female</td>\n",
       "      <td>42</td>\n",
       "      <td>Single</td>\n",
       "      <td>No Qualification</td>\n",
       "      <td>British</td>\n",
       "      <td>Under 2,600</td>\n",
       "      <td>The North</td>\n",
       "      <td>Yes</td>\n",
       "      <td>12</td>\n",
       "      <td>12</td>\n",
       "      <td>Packets</td>\n",
       "    </tr>\n",
       "    <tr>\n",
       "      <th>1</th>\n",
       "      <td>Male</td>\n",
       "      <td>53</td>\n",
       "      <td>Married</td>\n",
       "      <td>Degree</td>\n",
       "      <td>British</td>\n",
       "      <td>Above 36,400</td>\n",
       "      <td>The North</td>\n",
       "      <td>Yes</td>\n",
       "      <td>6</td>\n",
       "      <td>6</td>\n",
       "      <td>Packets</td>\n",
       "    </tr>\n",
       "    <tr>\n",
       "      <th>2</th>\n",
       "      <td>Male</td>\n",
       "      <td>40</td>\n",
       "      <td>Single</td>\n",
       "      <td>GCSE/CSE</td>\n",
       "      <td>English</td>\n",
       "      <td>2,600 to 5,200</td>\n",
       "      <td>The North</td>\n",
       "      <td>Yes</td>\n",
       "      <td>8</td>\n",
       "      <td>8</td>\n",
       "      <td>Hand-Rolled</td>\n",
       "    </tr>\n",
       "    <tr>\n",
       "      <th>3</th>\n",
       "      <td>Female</td>\n",
       "      <td>41</td>\n",
       "      <td>Married</td>\n",
       "      <td>No Qualification</td>\n",
       "      <td>English</td>\n",
       "      <td>5,200 to 10,400</td>\n",
       "      <td>The North</td>\n",
       "      <td>Yes</td>\n",
       "      <td>15</td>\n",
       "      <td>12</td>\n",
       "      <td>Packets</td>\n",
       "    </tr>\n",
       "    <tr>\n",
       "      <th>4</th>\n",
       "      <td>Female</td>\n",
       "      <td>34</td>\n",
       "      <td>Married</td>\n",
       "      <td>GCSE/CSE</td>\n",
       "      <td>British</td>\n",
       "      <td>2,600 to 5,200</td>\n",
       "      <td>The North</td>\n",
       "      <td>Yes</td>\n",
       "      <td>6</td>\n",
       "      <td>12</td>\n",
       "      <td>Packets</td>\n",
       "    </tr>\n",
       "  </tbody>\n",
       "</table>\n",
       "</div>"
      ],
      "text/plain": [
       "      sex  age marital_status highest_qualification nationality  \\\n",
       "0  Female   42         Single      No Qualification     British   \n",
       "1    Male   53        Married                Degree     British   \n",
       "2    Male   40         Single              GCSE/CSE     English   \n",
       "3  Female   41        Married      No Qualification     English   \n",
       "4  Female   34        Married              GCSE/CSE     British   \n",
       "\n",
       "      gross_income     region smoke  amt_weekends  amt_weekdays         type  \n",
       "0      Under 2,600  The North   Yes            12            12      Packets  \n",
       "1     Above 36,400  The North   Yes             6             6      Packets  \n",
       "2   2,600 to 5,200  The North   Yes             8             8  Hand-Rolled  \n",
       "3  5,200 to 10,400  The North   Yes            15            12      Packets  \n",
       "4   2,600 to 5,200  The North   Yes             6            12      Packets  "
      ]
     },
     "execution_count": 2,
     "metadata": {},
     "output_type": "execute_result"
    }
   ],
   "source": [
    "df = pd.read_csv('smoking.csv')\n",
    "df.head()"
   ]
  },
  {
   "cell_type": "markdown",
   "metadata": {},
   "source": [
    "### 1. [1.5 pt] Visualize the relationship between the amount that the smokers in the dataset smoke on the weekend vs. smoke on the weekdays. \n",
    "\n",
    "### Then, use this plot to describe the relationship. Remember there are four things you should be ready to discuss.\n"
   ]
  },
  {
   "cell_type": "code",
   "execution_count": 3,
   "metadata": {},
   "outputs": [
    {
     "data": {
      "image/png": "[encoded data removed]",
      "text/plain": [
       "<Figure size 432x288 with 1 Axes>"
      ]
     },
     "metadata": {},
     "output_type": "display_data"
    }
   ],
   "source": [
    "df.plot.scatter(x = 'amt_weekends', y = 'amt_weekdays', c = 'b')\n",
    "plt.show()"
   ]
  },
  {
   "cell_type": "markdown",
   "metadata": {},
   "source": [
    "The relationship between the two variables is linear and positive. The relationship is strongly linear; however, there do appear to be outliers."
   ]
  },
  {
   "cell_type": "markdown",
   "metadata": {},
   "source": [
    "### 2. [1 pt] Calculate the correlation between the amount that the smokers in the dataset smoke on the weekend vs. smoke on the weekdays and interpret it."
   ]
  },
  {
   "cell_type": "code",
   "execution_count": 8,
   "metadata": {},
   "outputs": [
    {
     "data": {
      "text/plain": [
       "0.8020521245005168"
      ]
     },
     "execution_count": 8,
     "metadata": {},
     "output_type": "execute_result"
    }
   ],
   "source": [
    "df.corr()\n",
    "rxy = df.corr().iloc[1,2]\n",
    "rxy\n"
   ]
  },
  {
   "cell_type": "markdown",
   "metadata": {},
   "source": [
    "There is a strong positive relationship between the amount smoked on weekend and weekdays"
   ]
  },
  {
   "cell_type": "markdown",
   "metadata": {},
   "source": [
    "### 3. [0.5 pt]  Can you use this correlation to describe the strength of the relationship between the amount smoked on the weekdays and the weekend. Why or why not?"
   ]
  },
  {
   "cell_type": "markdown",
   "metadata": {},
   "source": [
    "Yes, becuase we already said that the relationship is visually linear"
   ]
  },
  {
   "cell_type": "markdown",
   "metadata": {},
   "source": [
    "### 4. [1 pt]  In one figure (a figure can have multiple plots), visualize the relationship between the amount smoked on the weekdays and the weekends for every combination of sex and marital status. Plot a best fit line for each of these combinations (also in the same figure."
   ]
  },
  {
   "cell_type": "code",
   "execution_count": 9,
   "metadata": {},
   "outputs": [
    {
     "data": {
      "image/png": "[encoded data removed]",
      "text/plain": [
       "<Figure size 1876.35x360 with 5 Axes>"
      ]
     },
     "metadata": {},
     "output_type": "display_data"
    }
   ],
   "source": [
    "sns.lmplot(x = 'amt_weekends', y = 'amt_weekdays', hue = 'sex', col = 'marital_status', data = df)\n",
    "plt.legend(bbox_to_anchor = (1,1))\n",
    "plt.show()"
   ]
  },
  {
   "cell_type": "markdown",
   "metadata": {},
   "source": [
    "### 5. [1 pt]  Out of the 10 combinations of sex and marital status given in the data, which has the strongest linear association between the amount smoked on the weekdays and the amount smoked on the weekend. Which one had the weakest?"
   ]
  },
  {
   "cell_type": "code",
   "execution_count": 10,
   "metadata": {},
   "outputs": [
    {
     "name": "stdout",
     "output_type": "stream",
     "text": [
      "                                         age  amt_weekends  amt_weekdays\n",
      "sex    marital_status                                                   \n",
      "Female Divorced       age           1.000000      0.033771      0.027449\n",
      "                      amt_weekends  0.033771      1.000000      0.825356\n",
      "                      amt_weekdays  0.027449      0.825356      1.000000\n",
      "       Married        age           1.000000      0.192906      0.270235\n",
      "                      amt_weekends  0.192906      1.000000      0.805186\n",
      "                      amt_weekdays  0.270235      0.805186      1.000000\n",
      "       Separated      age           1.000000     -0.184835     -0.238553\n",
      "                      amt_weekends -0.184835      1.000000      0.825585\n",
      "                      amt_weekdays -0.238553      0.825585      1.000000\n",
      "       Single         age           1.000000      0.087175      0.183180\n",
      "                      amt_weekends  0.087175      1.000000      0.757588\n",
      "                      amt_weekdays  0.183180      0.757588      1.000000\n",
      "       Widowed        age           1.000000     -0.417753     -0.226351\n",
      "                      amt_weekends -0.417753      1.000000      0.878221\n",
      "                      amt_weekdays -0.226351      0.878221      1.000000\n",
      "Male   Divorced       age           1.000000     -0.323897     -0.341073\n",
      "                      amt_weekends -0.323897      1.000000      0.891828\n",
      "                      amt_weekdays -0.341073      0.891828      1.000000\n",
      "       Married        age           1.000000     -0.012128      0.126175\n",
      "                      amt_weekends -0.012128      1.000000      0.741600\n",
      "                      amt_weekdays  0.126175      0.741600      1.000000\n",
      "       Separated      age           1.000000      0.303021      0.409740\n",
      "                      amt_weekends  0.303021      1.000000      0.985361\n",
      "                      amt_weekdays  0.409740      0.985361      1.000000\n",
      "       Single         age           1.000000      0.164906      0.309638\n",
      "                      amt_weekends  0.164906      1.000000      0.804401\n",
      "                      amt_weekdays  0.309638      0.804401      1.000000\n",
      "       Widowed        age           1.000000      0.273159      0.146958\n",
      "                      amt_weekends  0.273159      1.000000      0.962760\n",
      "                      amt_weekdays  0.146958      0.962760      1.000000\n"
     ]
    }
   ],
   "source": [
    "combos = df.groupby(['sex','marital_status']).corr()\n",
    "print(combos)"
   ]
  },
  {
   "cell_type": "markdown",
   "metadata": {},
   "source": [
    "Separated males had the strongest correlation (0.985) and married males had the weakest correlation (0.742)."
   ]
  },
  {
   "cell_type": "markdown",
   "metadata": {},
   "source": [
    "### 6. [2 pt]  Next, fit a linear regression model which has a response variable of the amount smoked on the weekend and the following explanatory variables:\n",
    "* amount smoked on the weekdays\n",
    "* sex\n",
    "* age\n",
    "* marital status\n",
    "\n",
    "### Write out your multiple linear regression model equation."
   ]
  },
  {
   "cell_type": "code",
   "execution_count": 11,
   "metadata": {},
   "outputs": [
    {
     "data": {
      "text/html": [
       "<table class=\"simpletable\">\n",
       "<caption>OLS Regression Results</caption>\n",
       "<tr>\n",
       "  <th>Dep. Variable:</th>      <td>amt_weekends</td>   <th>  R-squared:         </th> <td>   0.655</td>\n",
       "</tr>\n",
       "<tr>\n",
       "  <th>Model:</th>                   <td>OLS</td>       <th>  Adj. R-squared:    </th> <td>   0.649</td>\n",
       "</tr>\n",
       "<tr>\n",
       "  <th>Method:</th>             <td>Least Squares</td>  <th>  F-statistic:       </th> <td>   112.2</td>\n",
       "</tr>\n",
       "<tr>\n",
       "  <th>Date:</th>             <td>Wed, 07 Apr 2021</td> <th>  Prob (F-statistic):</th> <td>2.01e-91</td>\n",
       "</tr>\n",
       "<tr>\n",
       "  <th>Time:</th>                 <td>22:25:01</td>     <th>  Log-Likelihood:    </th> <td> -1337.5</td>\n",
       "</tr>\n",
       "<tr>\n",
       "  <th>No. Observations:</th>      <td>   421</td>      <th>  AIC:               </th> <td>   2691.</td>\n",
       "</tr>\n",
       "<tr>\n",
       "  <th>Df Residuals:</th>          <td>   413</td>      <th>  BIC:               </th> <td>   2723.</td>\n",
       "</tr>\n",
       "<tr>\n",
       "  <th>Df Model:</th>              <td>     7</td>      <th>                     </th>     <td> </td>   \n",
       "</tr>\n",
       "<tr>\n",
       "  <th>Covariance Type:</th>      <td>nonrobust</td>    <th>                     </th>     <td> </td>   \n",
       "</tr>\n",
       "</table>\n",
       "<table class=\"simpletable\">\n",
       "<tr>\n",
       "               <td></td>                  <th>coef</th>     <th>std err</th>      <th>t</th>      <th>P>|t|</th>  <th>[0.025</th>    <th>0.975]</th>  \n",
       "</tr>\n",
       "<tr>\n",
       "  <th>Intercept</th>                   <td>    7.7400</td> <td>    1.450</td> <td>    5.340</td> <td> 0.000</td> <td>    4.891</td> <td>   10.589</td>\n",
       "</tr>\n",
       "<tr>\n",
       "  <th>sex[T.Male]</th>                 <td>   -0.0387</td> <td>    0.600</td> <td>   -0.065</td> <td> 0.948</td> <td>   -1.217</td> <td>    1.140</td>\n",
       "</tr>\n",
       "<tr>\n",
       "  <th>marital_status[T.Married]</th>   <td>   -1.3727</td> <td>    0.922</td> <td>   -1.488</td> <td> 0.137</td> <td>   -3.186</td> <td>    0.440</td>\n",
       "</tr>\n",
       "<tr>\n",
       "  <th>marital_status[T.Separated]</th> <td>   -1.6299</td> <td>    1.473</td> <td>   -1.107</td> <td> 0.269</td> <td>   -4.525</td> <td>    1.265</td>\n",
       "</tr>\n",
       "<tr>\n",
       "  <th>marital_status[T.Single]</th>    <td>   -0.6161</td> <td>    1.012</td> <td>   -0.609</td> <td> 0.543</td> <td>   -2.606</td> <td>    1.373</td>\n",
       "</tr>\n",
       "<tr>\n",
       "  <th>marital_status[T.Widowed]</th>   <td>   -1.0180</td> <td>    1.327</td> <td>   -0.767</td> <td> 0.443</td> <td>   -3.626</td> <td>    1.590</td>\n",
       "</tr>\n",
       "<tr>\n",
       "  <th>amt_weekdays</th>                <td>    0.8655</td> <td>    0.032</td> <td>   27.290</td> <td> 0.000</td> <td>    0.803</td> <td>    0.928</td>\n",
       "</tr>\n",
       "<tr>\n",
       "  <th>age</th>                         <td>   -0.0546</td> <td>    0.026</td> <td>   -2.135</td> <td> 0.033</td> <td>   -0.105</td> <td>   -0.004</td>\n",
       "</tr>\n",
       "</table>\n",
       "<table class=\"simpletable\">\n",
       "<tr>\n",
       "  <th>Omnibus:</th>       <td>98.125</td> <th>  Durbin-Watson:     </th> <td>   1.895</td>\n",
       "</tr>\n",
       "<tr>\n",
       "  <th>Prob(Omnibus):</th> <td> 0.000</td> <th>  Jarque-Bera (JB):  </th> <td>2454.460</td>\n",
       "</tr>\n",
       "<tr>\n",
       "  <th>Skew:</th>          <td> 0.240</td> <th>  Prob(JB):          </th> <td>    0.00</td>\n",
       "</tr>\n",
       "<tr>\n",
       "  <th>Kurtosis:</th>      <td>14.819</td> <th>  Cond. No.          </th> <td>    336.</td>\n",
       "</tr>\n",
       "</table><br/><br/>Notes:<br/>[1] Standard Errors assume that the covariance matrix of the errors is correctly specified."
      ],
      "text/plain": [
       "<class 'statsmodels.iolib.summary.Summary'>\n",
       "\"\"\"\n",
       "                            OLS Regression Results                            \n",
       "==============================================================================\n",
       "Dep. Variable:           amt_weekends   R-squared:                       0.655\n",
       "Model:                            OLS   Adj. R-squared:                  0.649\n",
       "Method:                 Least Squares   F-statistic:                     112.2\n",
       "Date:                Wed, 07 Apr 2021   Prob (F-statistic):           2.01e-91\n",
       "Time:                        22:25:01   Log-Likelihood:                -1337.5\n",
       "No. Observations:                 421   AIC:                             2691.\n",
       "Df Residuals:                     413   BIC:                             2723.\n",
       "Df Model:                           7                                         \n",
       "Covariance Type:            nonrobust                                         \n",
       "===============================================================================================\n",
       "                                  coef    std err          t      P>|t|      [0.025      0.975]\n",
       "-----------------------------------------------------------------------------------------------\n",
       "Intercept                       7.7400      1.450      5.340      0.000       4.891      10.589\n",
       "sex[T.Male]                    -0.0387      0.600     -0.065      0.948      -1.217       1.140\n",
       "marital_status[T.Married]      -1.3727      0.922     -1.488      0.137      -3.186       0.440\n",
       "marital_status[T.Separated]    -1.6299      1.473     -1.107      0.269      -4.525       1.265\n",
       "marital_status[T.Single]       -0.6161      1.012     -0.609      0.543      -2.606       1.373\n",
       "marital_status[T.Widowed]      -1.0180      1.327     -0.767      0.443      -3.626       1.590\n",
       "amt_weekdays                    0.8655      0.032     27.290      0.000       0.803       0.928\n",
       "age                            -0.0546      0.026     -2.135      0.033      -0.105      -0.004\n",
       "==============================================================================\n",
       "Omnibus:                       98.125   Durbin-Watson:                   1.895\n",
       "Prob(Omnibus):                  0.000   Jarque-Bera (JB):             2454.460\n",
       "Skew:                           0.240   Prob(JB):                         0.00\n",
       "Kurtosis:                      14.819   Cond. No.                         336.\n",
       "==============================================================================\n",
       "\n",
       "Notes:\n",
       "[1] Standard Errors assume that the covariance matrix of the errors is correctly specified.\n",
       "\"\"\""
      ]
     },
     "execution_count": 11,
     "metadata": {},
     "output_type": "execute_result"
    }
   ],
   "source": [
    "results = smf.ols('amt_weekends ~ amt_weekdays + sex + age + marital_status', data = df).fit()\n",
    "results.summary()"
   ]
  },
  {
   "cell_type": "markdown",
   "metadata": {},
   "source": []
  },
  {
   "cell_type": "markdown",
   "metadata": {},
   "source": [
    "### 7. [1 pt]  By hand, predict the amount of weekend cigarettes that are smoked by a 42 year old, single, female who smokes 12 cigarettes on the weekdays."
   ]
  },
  {
   "cell_type": "code",
   "execution_count": 12,
   "metadata": {},
   "outputs": [
    {
     "data": {
      "text/plain": [
       "15.216700000000001"
      ]
     },
     "execution_count": 12,
     "metadata": {},
     "output_type": "execute_result"
    }
   ],
   "source": [
    "7.7400 + (-0.0387 * 0) + (-0.6161 * 1) + (-0.0546 * 42) + (0.8655 * 12)"
   ]
  },
  {
   "cell_type": "markdown",
   "metadata": {},
   "source": [
    "### 8. [1 pt]  Using Python functions, predict the amount of weekend cigarettes that are smoked by a 42 year old single female who smokes 12 cigarettes on the weekdays.\n",
    "\n",
    "(See the last part of the Unit 13 notebook for help.)"
   ]
  },
  {
   "cell_type": "code",
   "execution_count": 13,
   "metadata": {},
   "outputs": [
    {
     "data": {
      "text/plain": [
       "0    15.215399\n",
       "dtype: float64"
      ]
     },
     "execution_count": 13,
     "metadata": {},
     "output_type": "execute_result"
    }
   ],
   "source": [
    "results.predict(exog=dict(age = 42, sex = 'Female', marital_status = 'Single', amt_weekdays = 12))"
   ]
  },
  {
   "cell_type": "markdown",
   "metadata": {},
   "source": [
    "### 9 [0.5 pt] The first observation in the dataframe represents this smoker from the previous problem. What is the residual for this prediction we just calculated?"
   ]
  },
  {
   "cell_type": "code",
   "execution_count": 14,
   "metadata": {},
   "outputs": [
    {
     "data": {
      "text/html": [
       "<div>\n",
       "<style scoped>\n",
       "    .dataframe tbody tr th:only-of-type {\n",
       "        vertical-align: middle;\n",
       "    }\n",
       "\n",
       "    .dataframe tbody tr th {\n",
       "        vertical-align: top;\n",
       "    }\n",
       "\n",
       "    .dataframe thead th {\n",
       "        text-align: right;\n",
       "    }\n",
       "</style>\n",
       "<table border=\"1\" class=\"dataframe\">\n",
       "  <thead>\n",
       "    <tr style=\"text-align: right;\">\n",
       "      <th></th>\n",
       "      <th>sex</th>\n",
       "      <th>age</th>\n",
       "      <th>marital_status</th>\n",
       "      <th>highest_qualification</th>\n",
       "      <th>nationality</th>\n",
       "      <th>gross_income</th>\n",
       "      <th>region</th>\n",
       "      <th>smoke</th>\n",
       "      <th>amt_weekends</th>\n",
       "      <th>amt_weekdays</th>\n",
       "      <th>type</th>\n",
       "    </tr>\n",
       "  </thead>\n",
       "  <tbody>\n",
       "    <tr>\n",
       "      <th>0</th>\n",
       "      <td>Female</td>\n",
       "      <td>42</td>\n",
       "      <td>Single</td>\n",
       "      <td>No Qualification</td>\n",
       "      <td>British</td>\n",
       "      <td>Under 2,600</td>\n",
       "      <td>The North</td>\n",
       "      <td>Yes</td>\n",
       "      <td>12</td>\n",
       "      <td>12</td>\n",
       "      <td>Packets</td>\n",
       "    </tr>\n",
       "    <tr>\n",
       "      <th>1</th>\n",
       "      <td>Male</td>\n",
       "      <td>53</td>\n",
       "      <td>Married</td>\n",
       "      <td>Degree</td>\n",
       "      <td>British</td>\n",
       "      <td>Above 36,400</td>\n",
       "      <td>The North</td>\n",
       "      <td>Yes</td>\n",
       "      <td>6</td>\n",
       "      <td>6</td>\n",
       "      <td>Packets</td>\n",
       "    </tr>\n",
       "    <tr>\n",
       "      <th>2</th>\n",
       "      <td>Male</td>\n",
       "      <td>40</td>\n",
       "      <td>Single</td>\n",
       "      <td>GCSE/CSE</td>\n",
       "      <td>English</td>\n",
       "      <td>2,600 to 5,200</td>\n",
       "      <td>The North</td>\n",
       "      <td>Yes</td>\n",
       "      <td>8</td>\n",
       "      <td>8</td>\n",
       "      <td>Hand-Rolled</td>\n",
       "    </tr>\n",
       "    <tr>\n",
       "      <th>3</th>\n",
       "      <td>Female</td>\n",
       "      <td>41</td>\n",
       "      <td>Married</td>\n",
       "      <td>No Qualification</td>\n",
       "      <td>English</td>\n",
       "      <td>5,200 to 10,400</td>\n",
       "      <td>The North</td>\n",
       "      <td>Yes</td>\n",
       "      <td>15</td>\n",
       "      <td>12</td>\n",
       "      <td>Packets</td>\n",
       "    </tr>\n",
       "    <tr>\n",
       "      <th>4</th>\n",
       "      <td>Female</td>\n",
       "      <td>34</td>\n",
       "      <td>Married</td>\n",
       "      <td>GCSE/CSE</td>\n",
       "      <td>British</td>\n",
       "      <td>2,600 to 5,200</td>\n",
       "      <td>The North</td>\n",
       "      <td>Yes</td>\n",
       "      <td>6</td>\n",
       "      <td>12</td>\n",
       "      <td>Packets</td>\n",
       "    </tr>\n",
       "  </tbody>\n",
       "</table>\n",
       "</div>"
      ],
      "text/plain": [
       "      sex  age marital_status highest_qualification nationality  \\\n",
       "0  Female   42         Single      No Qualification     British   \n",
       "1    Male   53        Married                Degree     British   \n",
       "2    Male   40         Single              GCSE/CSE     English   \n",
       "3  Female   41        Married      No Qualification     English   \n",
       "4  Female   34        Married              GCSE/CSE     British   \n",
       "\n",
       "      gross_income     region smoke  amt_weekends  amt_weekdays         type  \n",
       "0      Under 2,600  The North   Yes            12            12      Packets  \n",
       "1     Above 36,400  The North   Yes             6             6      Packets  \n",
       "2   2,600 to 5,200  The North   Yes             8             8  Hand-Rolled  \n",
       "3  5,200 to 10,400  The North   Yes            15            12      Packets  \n",
       "4   2,600 to 5,200  The North   Yes             6            12      Packets  "
      ]
     },
     "execution_count": 14,
     "metadata": {},
     "output_type": "execute_result"
    }
   ],
   "source": [
    "df.head()"
   ]
  },
  {
   "cell_type": "code",
   "execution_count": 15,
   "metadata": {},
   "outputs": [
    {
     "data": {
      "text/plain": [
       "3.2153989999999997"
      ]
     },
     "execution_count": 15,
     "metadata": {},
     "output_type": "execute_result"
    }
   ],
   "source": [
    "15.215399 - 12"
   ]
  },
  {
   "cell_type": "markdown",
   "metadata": {},
   "source": [
    "### 10. [1 pt]  What percent of the variability of the amount of cigarettes smoked by this sample on the weekends is explained by the model?"
   ]
  },
  {
   "cell_type": "code",
   "execution_count": 16,
   "metadata": {},
   "outputs": [
    {
     "data": {
      "text/html": [
       "<table class=\"simpletable\">\n",
       "<caption>OLS Regression Results</caption>\n",
       "<tr>\n",
       "  <th>Dep. Variable:</th>      <td>amt_weekends</td>   <th>  R-squared:         </th> <td>   0.655</td>\n",
       "</tr>\n",
       "<tr>\n",
       "  <th>Model:</th>                   <td>OLS</td>       <th>  Adj. R-squared:    </th> <td>   0.649</td>\n",
       "</tr>\n",
       "<tr>\n",
       "  <th>Method:</th>             <td>Least Squares</td>  <th>  F-statistic:       </th> <td>   112.2</td>\n",
       "</tr>\n",
       "<tr>\n",
       "  <th>Date:</th>             <td>Wed, 07 Apr 2021</td> <th>  Prob (F-statistic):</th> <td>2.01e-91</td>\n",
       "</tr>\n",
       "<tr>\n",
       "  <th>Time:</th>                 <td>22:25:41</td>     <th>  Log-Likelihood:    </th> <td> -1337.5</td>\n",
       "</tr>\n",
       "<tr>\n",
       "  <th>No. Observations:</th>      <td>   421</td>      <th>  AIC:               </th> <td>   2691.</td>\n",
       "</tr>\n",
       "<tr>\n",
       "  <th>Df Residuals:</th>          <td>   413</td>      <th>  BIC:               </th> <td>   2723.</td>\n",
       "</tr>\n",
       "<tr>\n",
       "  <th>Df Model:</th>              <td>     7</td>      <th>                     </th>     <td> </td>   \n",
       "</tr>\n",
       "<tr>\n",
       "  <th>Covariance Type:</th>      <td>nonrobust</td>    <th>                     </th>     <td> </td>   \n",
       "</tr>\n",
       "</table>\n",
       "<table class=\"simpletable\">\n",
       "<tr>\n",
       "               <td></td>                  <th>coef</th>     <th>std err</th>      <th>t</th>      <th>P>|t|</th>  <th>[0.025</th>    <th>0.975]</th>  \n",
       "</tr>\n",
       "<tr>\n",
       "  <th>Intercept</th>                   <td>    7.7400</td> <td>    1.450</td> <td>    5.340</td> <td> 0.000</td> <td>    4.891</td> <td>   10.589</td>\n",
       "</tr>\n",
       "<tr>\n",
       "  <th>sex[T.Male]</th>                 <td>   -0.0387</td> <td>    0.600</td> <td>   -0.065</td> <td> 0.948</td> <td>   -1.217</td> <td>    1.140</td>\n",
       "</tr>\n",
       "<tr>\n",
       "  <th>marital_status[T.Married]</th>   <td>   -1.3727</td> <td>    0.922</td> <td>   -1.488</td> <td> 0.137</td> <td>   -3.186</td> <td>    0.440</td>\n",
       "</tr>\n",
       "<tr>\n",
       "  <th>marital_status[T.Separated]</th> <td>   -1.6299</td> <td>    1.473</td> <td>   -1.107</td> <td> 0.269</td> <td>   -4.525</td> <td>    1.265</td>\n",
       "</tr>\n",
       "<tr>\n",
       "  <th>marital_status[T.Single]</th>    <td>   -0.6161</td> <td>    1.012</td> <td>   -0.609</td> <td> 0.543</td> <td>   -2.606</td> <td>    1.373</td>\n",
       "</tr>\n",
       "<tr>\n",
       "  <th>marital_status[T.Widowed]</th>   <td>   -1.0180</td> <td>    1.327</td> <td>   -0.767</td> <td> 0.443</td> <td>   -3.626</td> <td>    1.590</td>\n",
       "</tr>\n",
       "<tr>\n",
       "  <th>amt_weekdays</th>                <td>    0.8655</td> <td>    0.032</td> <td>   27.290</td> <td> 0.000</td> <td>    0.803</td> <td>    0.928</td>\n",
       "</tr>\n",
       "<tr>\n",
       "  <th>age</th>                         <td>   -0.0546</td> <td>    0.026</td> <td>   -2.135</td> <td> 0.033</td> <td>   -0.105</td> <td>   -0.004</td>\n",
       "</tr>\n",
       "</table>\n",
       "<table class=\"simpletable\">\n",
       "<tr>\n",
       "  <th>Omnibus:</th>       <td>98.125</td> <th>  Durbin-Watson:     </th> <td>   1.895</td>\n",
       "</tr>\n",
       "<tr>\n",
       "  <th>Prob(Omnibus):</th> <td> 0.000</td> <th>  Jarque-Bera (JB):  </th> <td>2454.460</td>\n",
       "</tr>\n",
       "<tr>\n",
       "  <th>Skew:</th>          <td> 0.240</td> <th>  Prob(JB):          </th> <td>    0.00</td>\n",
       "</tr>\n",
       "<tr>\n",
       "  <th>Kurtosis:</th>      <td>14.819</td> <th>  Cond. No.          </th> <td>    336.</td>\n",
       "</tr>\n",
       "</table><br/><br/>Notes:<br/>[1] Standard Errors assume that the covariance matrix of the errors is correctly specified."
      ],
      "text/plain": [
       "<class 'statsmodels.iolib.summary.Summary'>\n",
       "\"\"\"\n",
       "                            OLS Regression Results                            \n",
       "==============================================================================\n",
       "Dep. Variable:           amt_weekends   R-squared:                       0.655\n",
       "Model:                            OLS   Adj. R-squared:                  0.649\n",
       "Method:                 Least Squares   F-statistic:                     112.2\n",
       "Date:                Wed, 07 Apr 2021   Prob (F-statistic):           2.01e-91\n",
       "Time:                        22:25:41   Log-Likelihood:                -1337.5\n",
       "No. Observations:                 421   AIC:                             2691.\n",
       "Df Residuals:                     413   BIC:                             2723.\n",
       "Df Model:                           7                                         \n",
       "Covariance Type:            nonrobust                                         \n",
       "===============================================================================================\n",
       "                                  coef    std err          t      P>|t|      [0.025      0.975]\n",
       "-----------------------------------------------------------------------------------------------\n",
       "Intercept                       7.7400      1.450      5.340      0.000       4.891      10.589\n",
       "sex[T.Male]                    -0.0387      0.600     -0.065      0.948      -1.217       1.140\n",
       "marital_status[T.Married]      -1.3727      0.922     -1.488      0.137      -3.186       0.440\n",
       "marital_status[T.Separated]    -1.6299      1.473     -1.107      0.269      -4.525       1.265\n",
       "marital_status[T.Single]       -0.6161      1.012     -0.609      0.543      -2.606       1.373\n",
       "marital_status[T.Widowed]      -1.0180      1.327     -0.767      0.443      -3.626       1.590\n",
       "amt_weekdays                    0.8655      0.032     27.290      0.000       0.803       0.928\n",
       "age                            -0.0546      0.026     -2.135      0.033      -0.105      -0.004\n",
       "==============================================================================\n",
       "Omnibus:                       98.125   Durbin-Watson:                   1.895\n",
       "Prob(Omnibus):                  0.000   Jarque-Bera (JB):             2454.460\n",
       "Skew:                           0.240   Prob(JB):                         0.00\n",
       "Kurtosis:                      14.819   Cond. No.                         336.\n",
       "==============================================================================\n",
       "\n",
       "Notes:\n",
       "[1] Standard Errors assume that the covariance matrix of the errors is correctly specified.\n",
       "\"\"\""
      ]
     },
     "execution_count": 16,
     "metadata": {},
     "output_type": "execute_result"
    }
   ],
   "source": [
    "results.summary()"
   ]
  },
  {
   "cell_type": "markdown",
   "metadata": {},
   "source": [
    "R^2 = 0.655 , 65.5% of the variability can be explained by the model"
   ]
  },
  {
   "cell_type": "markdown",
   "metadata": {},
   "source": [
    "### 11. [5 pt]  Check the five conditions for conducting inference on the population intercept and slopes associated with this model. Discuss whether each condition is or is not met."
   ]
  },
  {
   "cell_type": "markdown",
   "metadata": {},
   "source": [
    "Linearity Condition: The points in the plot below are not roughly evenly distributed above and below the line, so condition is not met"
   ]
  },
  {
   "cell_type": "markdown",
   "metadata": {},
   "source": [
    "Constant Variability of Residual Condition: Because the y-axis spread of points in the plot below change as we move from left to right, we can say that this condition is not met"
   ]
  },
  {
   "cell_type": "code",
   "execution_count": 17,
   "metadata": {},
   "outputs": [
    {
     "data": {
      "image/png": "[encoded data removed]",
      "text/plain": [
       "<Figure size 432x288 with 1 Axes>"
      ]
     },
     "metadata": {},
     "output_type": "display_data"
    }
   ],
   "source": [
    "sns.regplot(x = results.fittedvalues, y = results.resid, ci = None)\n",
    "plt.ylabel('Residual')\n",
    "plt.xlabel('Fitted Value')\n",
    "plt.show()"
   ]
  },
  {
   "cell_type": "markdown",
   "metadata": {},
   "source": [
    "Normality of Residuals (with mean of 0) Condition: Not symmetric, slightly right-skewed"
   ]
  },
  {
   "cell_type": "code",
   "execution_count": 18,
   "metadata": {},
   "outputs": [
    {
     "data": {
      "image/png": "[encoded data removed]",
      "text/plain": [
       "<Figure size 432x288 with 1 Axes>"
      ]
     },
     "metadata": {},
     "output_type": "display_data"
    }
   ],
   "source": [
    "plt.hist(results.resid)\n",
    "plt.xlabel('Residuals')\n",
    "plt.show()"
   ]
  },
  {
   "cell_type": "markdown",
   "metadata": {},
   "source": [
    "Independence of Residuals condition: Sample is random and n = 421 < 10% of all U.K. smokers"
   ]
  },
  {
   "cell_type": "markdown",
   "metadata": {},
   "source": [
    "No multicollinearity Condition: not violated by our one pair of numerical explanatory variables"
   ]
  },
  {
   "cell_type": "code",
   "execution_count": 19,
   "metadata": {},
   "outputs": [
    {
     "data": {
      "text/html": [
       "<div>\n",
       "<style scoped>\n",
       "    .dataframe tbody tr th:only-of-type {\n",
       "        vertical-align: middle;\n",
       "    }\n",
       "\n",
       "    .dataframe tbody tr th {\n",
       "        vertical-align: top;\n",
       "    }\n",
       "\n",
       "    .dataframe thead th {\n",
       "        text-align: right;\n",
       "    }\n",
       "</style>\n",
       "<table border=\"1\" class=\"dataframe\">\n",
       "  <thead>\n",
       "    <tr style=\"text-align: right;\">\n",
       "      <th></th>\n",
       "      <th>age</th>\n",
       "      <th>amt_weekdays</th>\n",
       "    </tr>\n",
       "  </thead>\n",
       "  <tbody>\n",
       "    <tr>\n",
       "      <th>age</th>\n",
       "      <td>1.000000</td>\n",
       "      <td>0.192783</td>\n",
       "    </tr>\n",
       "    <tr>\n",
       "      <th>amt_weekdays</th>\n",
       "      <td>0.192783</td>\n",
       "      <td>1.000000</td>\n",
       "    </tr>\n",
       "  </tbody>\n",
       "</table>\n",
       "</div>"
      ],
      "text/plain": [
       "                   age  amt_weekdays\n",
       "age           1.000000      0.192783\n",
       "amt_weekdays  0.192783      1.000000"
      ]
     },
     "execution_count": 19,
     "metadata": {},
     "output_type": "execute_result"
    }
   ],
   "source": [
    "df[['age','amt_weekdays']].corr()"
   ]
  },
  {
   "cell_type": "markdown",
   "metadata": {},
   "source": [
    "### 12.  Next, we would like to test whether there is sufficient evidence to suggest that the age slope in the corresponding population model (ie. considering ALL U.K. smokers) is non-zero.\n",
    "\n",
    "#### 12.1. [1 pt]  Formulate the hypotheses for this test."
   ]
  },
  {
   "cell_type": "markdown",
   "metadata": {},
   "source": [
    "$h_o$: $B_3$ = 0\n",
    "\n",
    "\n",
    "\n",
    "$h_a$: $B_3$ != 0"
   ]
  },
  {
   "cell_type": "markdown",
   "metadata": {},
   "source": [
    "#### 12.2 [2 pt]  Calculate a 90% confidence interval for this slope."
   ]
  },
  {
   "cell_type": "code",
   "execution_count": 20,
   "metadata": {},
   "outputs": [
    {
     "data": {
      "text/html": [
       "<table class=\"simpletable\">\n",
       "<caption>OLS Regression Results</caption>\n",
       "<tr>\n",
       "  <th>Dep. Variable:</th>      <td>amt_weekends</td>   <th>  R-squared:         </th> <td>   0.655</td>\n",
       "</tr>\n",
       "<tr>\n",
       "  <th>Model:</th>                   <td>OLS</td>       <th>  Adj. R-squared:    </th> <td>   0.649</td>\n",
       "</tr>\n",
       "<tr>\n",
       "  <th>Method:</th>             <td>Least Squares</td>  <th>  F-statistic:       </th> <td>   112.2</td>\n",
       "</tr>\n",
       "<tr>\n",
       "  <th>Date:</th>             <td>Wed, 07 Apr 2021</td> <th>  Prob (F-statistic):</th> <td>2.01e-91</td>\n",
       "</tr>\n",
       "<tr>\n",
       "  <th>Time:</th>                 <td>22:26:21</td>     <th>  Log-Likelihood:    </th> <td> -1337.5</td>\n",
       "</tr>\n",
       "<tr>\n",
       "  <th>No. Observations:</th>      <td>   421</td>      <th>  AIC:               </th> <td>   2691.</td>\n",
       "</tr>\n",
       "<tr>\n",
       "  <th>Df Residuals:</th>          <td>   413</td>      <th>  BIC:               </th> <td>   2723.</td>\n",
       "</tr>\n",
       "<tr>\n",
       "  <th>Df Model:</th>              <td>     7</td>      <th>                     </th>     <td> </td>   \n",
       "</tr>\n",
       "<tr>\n",
       "  <th>Covariance Type:</th>      <td>nonrobust</td>    <th>                     </th>     <td> </td>   \n",
       "</tr>\n",
       "</table>\n",
       "<table class=\"simpletable\">\n",
       "<tr>\n",
       "               <td></td>                  <th>coef</th>     <th>std err</th>      <th>t</th>      <th>P>|t|</th>  <th>[0.025</th>    <th>0.975]</th>  \n",
       "</tr>\n",
       "<tr>\n",
       "  <th>Intercept</th>                   <td>    7.7400</td> <td>    1.450</td> <td>    5.340</td> <td> 0.000</td> <td>    4.891</td> <td>   10.589</td>\n",
       "</tr>\n",
       "<tr>\n",
       "  <th>sex[T.Male]</th>                 <td>   -0.0387</td> <td>    0.600</td> <td>   -0.065</td> <td> 0.948</td> <td>   -1.217</td> <td>    1.140</td>\n",
       "</tr>\n",
       "<tr>\n",
       "  <th>marital_status[T.Married]</th>   <td>   -1.3727</td> <td>    0.922</td> <td>   -1.488</td> <td> 0.137</td> <td>   -3.186</td> <td>    0.440</td>\n",
       "</tr>\n",
       "<tr>\n",
       "  <th>marital_status[T.Separated]</th> <td>   -1.6299</td> <td>    1.473</td> <td>   -1.107</td> <td> 0.269</td> <td>   -4.525</td> <td>    1.265</td>\n",
       "</tr>\n",
       "<tr>\n",
       "  <th>marital_status[T.Single]</th>    <td>   -0.6161</td> <td>    1.012</td> <td>   -0.609</td> <td> 0.543</td> <td>   -2.606</td> <td>    1.373</td>\n",
       "</tr>\n",
       "<tr>\n",
       "  <th>marital_status[T.Widowed]</th>   <td>   -1.0180</td> <td>    1.327</td> <td>   -0.767</td> <td> 0.443</td> <td>   -3.626</td> <td>    1.590</td>\n",
       "</tr>\n",
       "<tr>\n",
       "  <th>amt_weekdays</th>                <td>    0.8655</td> <td>    0.032</td> <td>   27.290</td> <td> 0.000</td> <td>    0.803</td> <td>    0.928</td>\n",
       "</tr>\n",
       "<tr>\n",
       "  <th>age</th>                         <td>   -0.0546</td> <td>    0.026</td> <td>   -2.135</td> <td> 0.033</td> <td>   -0.105</td> <td>   -0.004</td>\n",
       "</tr>\n",
       "</table>\n",
       "<table class=\"simpletable\">\n",
       "<tr>\n",
       "  <th>Omnibus:</th>       <td>98.125</td> <th>  Durbin-Watson:     </th> <td>   1.895</td>\n",
       "</tr>\n",
       "<tr>\n",
       "  <th>Prob(Omnibus):</th> <td> 0.000</td> <th>  Jarque-Bera (JB):  </th> <td>2454.460</td>\n",
       "</tr>\n",
       "<tr>\n",
       "  <th>Skew:</th>          <td> 0.240</td> <th>  Prob(JB):          </th> <td>    0.00</td>\n",
       "</tr>\n",
       "<tr>\n",
       "  <th>Kurtosis:</th>      <td>14.819</td> <th>  Cond. No.          </th> <td>    336.</td>\n",
       "</tr>\n",
       "</table><br/><br/>Notes:<br/>[1] Standard Errors assume that the covariance matrix of the errors is correctly specified."
      ],
      "text/plain": [
       "<class 'statsmodels.iolib.summary.Summary'>\n",
       "\"\"\"\n",
       "                            OLS Regression Results                            \n",
       "==============================================================================\n",
       "Dep. Variable:           amt_weekends   R-squared:                       0.655\n",
       "Model:                            OLS   Adj. R-squared:                  0.649\n",
       "Method:                 Least Squares   F-statistic:                     112.2\n",
       "Date:                Wed, 07 Apr 2021   Prob (F-statistic):           2.01e-91\n",
       "Time:                        22:26:21   Log-Likelihood:                -1337.5\n",
       "No. Observations:                 421   AIC:                             2691.\n",
       "Df Residuals:                     413   BIC:                             2723.\n",
       "Df Model:                           7                                         \n",
       "Covariance Type:            nonrobust                                         \n",
       "===============================================================================================\n",
       "                                  coef    std err          t      P>|t|      [0.025      0.975]\n",
       "-----------------------------------------------------------------------------------------------\n",
       "Intercept                       7.7400      1.450      5.340      0.000       4.891      10.589\n",
       "sex[T.Male]                    -0.0387      0.600     -0.065      0.948      -1.217       1.140\n",
       "marital_status[T.Married]      -1.3727      0.922     -1.488      0.137      -3.186       0.440\n",
       "marital_status[T.Separated]    -1.6299      1.473     -1.107      0.269      -4.525       1.265\n",
       "marital_status[T.Single]       -0.6161      1.012     -0.609      0.543      -2.606       1.373\n",
       "marital_status[T.Widowed]      -1.0180      1.327     -0.767      0.443      -3.626       1.590\n",
       "amt_weekdays                    0.8655      0.032     27.290      0.000       0.803       0.928\n",
       "age                            -0.0546      0.026     -2.135      0.033      -0.105      -0.004\n",
       "==============================================================================\n",
       "Omnibus:                       98.125   Durbin-Watson:                   1.895\n",
       "Prob(Omnibus):                  0.000   Jarque-Bera (JB):             2454.460\n",
       "Skew:                           0.240   Prob(JB):                         0.00\n",
       "Kurtosis:                      14.819   Cond. No.                         336.\n",
       "==============================================================================\n",
       "\n",
       "Notes:\n",
       "[1] Standard Errors assume that the covariance matrix of the errors is correctly specified.\n",
       "\"\"\""
      ]
     },
     "execution_count": 20,
     "metadata": {},
     "output_type": "execute_result"
    }
   ],
   "source": [
    "results.summary()"
   ]
  },
  {
   "cell_type": "code",
   "execution_count": 21,
   "metadata": {},
   "outputs": [
    {
     "name": "stdout",
     "output_type": "stream",
     "text": [
      "Point Estimate = Sample Slope =  -0.0546\n"
     ]
    }
   ],
   "source": [
    "point_estimate = -0.0546\n",
    "print('Point Estimate = Sample Slope = ', point_estimate)"
   ]
  },
  {
   "cell_type": "code",
   "execution_count": 22,
   "metadata": {},
   "outputs": [
    {
     "name": "stdout",
     "output_type": "stream",
     "text": [
      "Standard Error:  0.026\n"
     ]
    }
   ],
   "source": [
    "standard_error = 0.026\n",
    "print('Standard Error: ', standard_error)"
   ]
  },
  {
   "cell_type": "code",
   "execution_count": 23,
   "metadata": {},
   "outputs": [
    {
     "name": "stdout",
     "output_type": "stream",
     "text": [
      "Critical Value:  1.6485514808617563\n"
     ]
    }
   ],
   "source": [
    "from scipy.stats import t\n",
    "critical_value = t.ppf(.95, df = 413) #421 - 7 - 1\n",
    "print('Critical Value: ', critical_value)"
   ]
  },
  {
   "cell_type": "code",
   "execution_count": 24,
   "metadata": {},
   "outputs": [
    {
     "name": "stdout",
     "output_type": "stream",
     "text": [
      "90% Confidence Interval for the Age Population Slope in the Current Model: ( -0.09746233850240565 , -0.011737661497594344 )\n"
     ]
    }
   ],
   "source": [
    "ll = point_estimate - critical_value * standard_error\n",
    "ul = point_estimate + critical_value * standard_error\n",
    "\n",
    "print('90% Confidence Interval for the Age Population Slope in the Current Model:','(',ll, ',',ul,')')\n"
   ]
  },
  {
   "cell_type": "markdown",
   "metadata": {},
   "source": [
    "We are 90% confident that the age slope in the multiple linear regression population model is between -0.09746 and -0.01173"
   ]
  },
  {
   "cell_type": "markdown",
   "metadata": {},
   "source": [
    "#### 12.3 [0.5 pt]  Make a conclusion about your hypotheses using this confidence interval."
   ]
  },
  {
   "cell_type": "markdown",
   "metadata": {},
   "source": [
    "Becuase the null value is not inside of the confidence interval, we reject the null and say that there is sufficient evidence to suggest the alternative hypothesis"
   ]
  },
  {
   "cell_type": "markdown",
   "metadata": {},
   "source": [
    "#### 12.4 [0.5 pt]  Calculate the test statistic for this test by hand. Verify this test statistic in your regression output table."
   ]
  },
  {
   "cell_type": "code",
   "execution_count": 25,
   "metadata": {},
   "outputs": [
    {
     "name": "stdout",
     "output_type": "stream",
     "text": [
      "Test Statistic:  -2.1\n"
     ]
    },
    {
     "data": {
      "text/html": [
       "<table class=\"simpletable\">\n",
       "<caption>OLS Regression Results</caption>\n",
       "<tr>\n",
       "  <th>Dep. Variable:</th>      <td>amt_weekends</td>   <th>  R-squared:         </th> <td>   0.655</td>\n",
       "</tr>\n",
       "<tr>\n",
       "  <th>Model:</th>                   <td>OLS</td>       <th>  Adj. R-squared:    </th> <td>   0.649</td>\n",
       "</tr>\n",
       "<tr>\n",
       "  <th>Method:</th>             <td>Least Squares</td>  <th>  F-statistic:       </th> <td>   112.2</td>\n",
       "</tr>\n",
       "<tr>\n",
       "  <th>Date:</th>             <td>Wed, 07 Apr 2021</td> <th>  Prob (F-statistic):</th> <td>2.01e-91</td>\n",
       "</tr>\n",
       "<tr>\n",
       "  <th>Time:</th>                 <td>22:26:34</td>     <th>  Log-Likelihood:    </th> <td> -1337.5</td>\n",
       "</tr>\n",
       "<tr>\n",
       "  <th>No. Observations:</th>      <td>   421</td>      <th>  AIC:               </th> <td>   2691.</td>\n",
       "</tr>\n",
       "<tr>\n",
       "  <th>Df Residuals:</th>          <td>   413</td>      <th>  BIC:               </th> <td>   2723.</td>\n",
       "</tr>\n",
       "<tr>\n",
       "  <th>Df Model:</th>              <td>     7</td>      <th>                     </th>     <td> </td>   \n",
       "</tr>\n",
       "<tr>\n",
       "  <th>Covariance Type:</th>      <td>nonrobust</td>    <th>                     </th>     <td> </td>   \n",
       "</tr>\n",
       "</table>\n",
       "<table class=\"simpletable\">\n",
       "<tr>\n",
       "               <td></td>                  <th>coef</th>     <th>std err</th>      <th>t</th>      <th>P>|t|</th>  <th>[0.025</th>    <th>0.975]</th>  \n",
       "</tr>\n",
       "<tr>\n",
       "  <th>Intercept</th>                   <td>    7.7400</td> <td>    1.450</td> <td>    5.340</td> <td> 0.000</td> <td>    4.891</td> <td>   10.589</td>\n",
       "</tr>\n",
       "<tr>\n",
       "  <th>sex[T.Male]</th>                 <td>   -0.0387</td> <td>    0.600</td> <td>   -0.065</td> <td> 0.948</td> <td>   -1.217</td> <td>    1.140</td>\n",
       "</tr>\n",
       "<tr>\n",
       "  <th>marital_status[T.Married]</th>   <td>   -1.3727</td> <td>    0.922</td> <td>   -1.488</td> <td> 0.137</td> <td>   -3.186</td> <td>    0.440</td>\n",
       "</tr>\n",
       "<tr>\n",
       "  <th>marital_status[T.Separated]</th> <td>   -1.6299</td> <td>    1.473</td> <td>   -1.107</td> <td> 0.269</td> <td>   -4.525</td> <td>    1.265</td>\n",
       "</tr>\n",
       "<tr>\n",
       "  <th>marital_status[T.Single]</th>    <td>   -0.6161</td> <td>    1.012</td> <td>   -0.609</td> <td> 0.543</td> <td>   -2.606</td> <td>    1.373</td>\n",
       "</tr>\n",
       "<tr>\n",
       "  <th>marital_status[T.Widowed]</th>   <td>   -1.0180</td> <td>    1.327</td> <td>   -0.767</td> <td> 0.443</td> <td>   -3.626</td> <td>    1.590</td>\n",
       "</tr>\n",
       "<tr>\n",
       "  <th>amt_weekdays</th>                <td>    0.8655</td> <td>    0.032</td> <td>   27.290</td> <td> 0.000</td> <td>    0.803</td> <td>    0.928</td>\n",
       "</tr>\n",
       "<tr>\n",
       "  <th>age</th>                         <td>   -0.0546</td> <td>    0.026</td> <td>   -2.135</td> <td> 0.033</td> <td>   -0.105</td> <td>   -0.004</td>\n",
       "</tr>\n",
       "</table>\n",
       "<table class=\"simpletable\">\n",
       "<tr>\n",
       "  <th>Omnibus:</th>       <td>98.125</td> <th>  Durbin-Watson:     </th> <td>   1.895</td>\n",
       "</tr>\n",
       "<tr>\n",
       "  <th>Prob(Omnibus):</th> <td> 0.000</td> <th>  Jarque-Bera (JB):  </th> <td>2454.460</td>\n",
       "</tr>\n",
       "<tr>\n",
       "  <th>Skew:</th>          <td> 0.240</td> <th>  Prob(JB):          </th> <td>    0.00</td>\n",
       "</tr>\n",
       "<tr>\n",
       "  <th>Kurtosis:</th>      <td>14.819</td> <th>  Cond. No.          </th> <td>    336.</td>\n",
       "</tr>\n",
       "</table><br/><br/>Notes:<br/>[1] Standard Errors assume that the covariance matrix of the errors is correctly specified."
      ],
      "text/plain": [
       "<class 'statsmodels.iolib.summary.Summary'>\n",
       "\"\"\"\n",
       "                            OLS Regression Results                            \n",
       "==============================================================================\n",
       "Dep. Variable:           amt_weekends   R-squared:                       0.655\n",
       "Model:                            OLS   Adj. R-squared:                  0.649\n",
       "Method:                 Least Squares   F-statistic:                     112.2\n",
       "Date:                Wed, 07 Apr 2021   Prob (F-statistic):           2.01e-91\n",
       "Time:                        22:26:34   Log-Likelihood:                -1337.5\n",
       "No. Observations:                 421   AIC:                             2691.\n",
       "Df Residuals:                     413   BIC:                             2723.\n",
       "Df Model:                           7                                         \n",
       "Covariance Type:            nonrobust                                         \n",
       "===============================================================================================\n",
       "                                  coef    std err          t      P>|t|      [0.025      0.975]\n",
       "-----------------------------------------------------------------------------------------------\n",
       "Intercept                       7.7400      1.450      5.340      0.000       4.891      10.589\n",
       "sex[T.Male]                    -0.0387      0.600     -0.065      0.948      -1.217       1.140\n",
       "marital_status[T.Married]      -1.3727      0.922     -1.488      0.137      -3.186       0.440\n",
       "marital_status[T.Separated]    -1.6299      1.473     -1.107      0.269      -4.525       1.265\n",
       "marital_status[T.Single]       -0.6161      1.012     -0.609      0.543      -2.606       1.373\n",
       "marital_status[T.Widowed]      -1.0180      1.327     -0.767      0.443      -3.626       1.590\n",
       "amt_weekdays                    0.8655      0.032     27.290      0.000       0.803       0.928\n",
       "age                            -0.0546      0.026     -2.135      0.033      -0.105      -0.004\n",
       "==============================================================================\n",
       "Omnibus:                       98.125   Durbin-Watson:                   1.895\n",
       "Prob(Omnibus):                  0.000   Jarque-Bera (JB):             2454.460\n",
       "Skew:                           0.240   Prob(JB):                         0.00\n",
       "Kurtosis:                      14.819   Cond. No.                         336.\n",
       "==============================================================================\n",
       "\n",
       "Notes:\n",
       "[1] Standard Errors assume that the covariance matrix of the errors is correctly specified.\n",
       "\"\"\""
      ]
     },
     "execution_count": 25,
     "metadata": {},
     "output_type": "execute_result"
    }
   ],
   "source": [
    "null_value = 0\n",
    "test_stat = (point_estimate - null_value)/standard_error\n",
    "print(\"Test Statistic: \", test_stat)\n",
    "\n",
    "results.summary()"
   ]
  },
  {
   "cell_type": "markdown",
   "metadata": {},
   "source": [
    "Test statistic by hand was calculated as -2.1 and the output table says that this number is -2.135"
   ]
  },
  {
   "cell_type": "markdown",
   "metadata": {},
   "source": [
    "#### 12.5 [1 pt]  Use this test statistic to calculate the p-value for this hypothesis test (using the distribution that this test statistic is an observation from). Verify this p-value in your regression output table."
   ]
  },
  {
   "cell_type": "code",
   "execution_count": 26,
   "metadata": {},
   "outputs": [
    {
     "name": "stdout",
     "output_type": "stream",
     "text": [
      "p-value: 0.036334878049917974\n"
     ]
    }
   ],
   "source": [
    "pvalue = 2 * (1 - t.cdf(np.abs(test_stat), df = 413))\n",
    "print('p-value:', pvalue)"
   ]
  },
  {
   "cell_type": "markdown",
   "metadata": {},
   "source": [
    "p-value by hand was calculated as 0.03633 and the output table says that this number is 0.033"
   ]
  },
  {
   "cell_type": "markdown",
   "metadata": {},
   "source": [
    "#### 12.6 [0.5 pt]  Use this p-value to make a conclusion about your hypotheses, using a significance level of $\\alpha=0.10$."
   ]
  },
  {
   "cell_type": "markdown",
   "metadata": {},
   "source": [
    "Because the p-value of 0.0363 < 0.10, we reject the null and say that there is sufficient evidence to suggest the alternative"
   ]
  },
  {
   "cell_type": "markdown",
   "metadata": {},
   "source": [
    "#### 12.7 [1 pt]  What is the probability that the population slope for age was *actually* equal to zero in the previous test and that we incorrectly rejected it in our test?"
   ]
  },
  {
   "cell_type": "markdown",
   "metadata": {},
   "source": [
    "10% because that is $\\alpha\\$"
   ]
  },
  {
   "cell_type": "markdown",
   "metadata": {},
   "source": [
    "### 13. Next, we would like to test whether there is sufficient evidence to suggest that at least one of the population slopes in the corresponding population model (ie. considering ALL U.K. smokers) is non-zero.\n",
    "\n",
    "#### 13.1 [1 pt]  Formulate the hypotheses for this test."
   ]
  },
  {
   "cell_type": "markdown",
   "metadata": {},
   "source": [
    "$h_o$: $B_1$ = $B_2$ = $B_3$ = $B_4$ = $B_5$ = $B_6$ = $B_7$ = 0\n",
    "\n",
    "\n",
    "$h_a$: atleast one $B_i$ != 0"
   ]
  },
  {
   "cell_type": "markdown",
   "metadata": {},
   "source": [
    "#### 13.2 [0.5 pt]  What is the test statistic for this hypothesis test?"
   ]
  },
  {
   "cell_type": "code",
   "execution_count": 27,
   "metadata": {},
   "outputs": [
    {
     "data": {
      "text/html": [
       "<table class=\"simpletable\">\n",
       "<caption>OLS Regression Results</caption>\n",
       "<tr>\n",
       "  <th>Dep. Variable:</th>      <td>amt_weekends</td>   <th>  R-squared:         </th> <td>   0.655</td>\n",
       "</tr>\n",
       "<tr>\n",
       "  <th>Model:</th>                   <td>OLS</td>       <th>  Adj. R-squared:    </th> <td>   0.649</td>\n",
       "</tr>\n",
       "<tr>\n",
       "  <th>Method:</th>             <td>Least Squares</td>  <th>  F-statistic:       </th> <td>   112.2</td>\n",
       "</tr>\n",
       "<tr>\n",
       "  <th>Date:</th>             <td>Wed, 07 Apr 2021</td> <th>  Prob (F-statistic):</th> <td>2.01e-91</td>\n",
       "</tr>\n",
       "<tr>\n",
       "  <th>Time:</th>                 <td>22:26:41</td>     <th>  Log-Likelihood:    </th> <td> -1337.5</td>\n",
       "</tr>\n",
       "<tr>\n",
       "  <th>No. Observations:</th>      <td>   421</td>      <th>  AIC:               </th> <td>   2691.</td>\n",
       "</tr>\n",
       "<tr>\n",
       "  <th>Df Residuals:</th>          <td>   413</td>      <th>  BIC:               </th> <td>   2723.</td>\n",
       "</tr>\n",
       "<tr>\n",
       "  <th>Df Model:</th>              <td>     7</td>      <th>                     </th>     <td> </td>   \n",
       "</tr>\n",
       "<tr>\n",
       "  <th>Covariance Type:</th>      <td>nonrobust</td>    <th>                     </th>     <td> </td>   \n",
       "</tr>\n",
       "</table>\n",
       "<table class=\"simpletable\">\n",
       "<tr>\n",
       "               <td></td>                  <th>coef</th>     <th>std err</th>      <th>t</th>      <th>P>|t|</th>  <th>[0.025</th>    <th>0.975]</th>  \n",
       "</tr>\n",
       "<tr>\n",
       "  <th>Intercept</th>                   <td>    7.7400</td> <td>    1.450</td> <td>    5.340</td> <td> 0.000</td> <td>    4.891</td> <td>   10.589</td>\n",
       "</tr>\n",
       "<tr>\n",
       "  <th>sex[T.Male]</th>                 <td>   -0.0387</td> <td>    0.600</td> <td>   -0.065</td> <td> 0.948</td> <td>   -1.217</td> <td>    1.140</td>\n",
       "</tr>\n",
       "<tr>\n",
       "  <th>marital_status[T.Married]</th>   <td>   -1.3727</td> <td>    0.922</td> <td>   -1.488</td> <td> 0.137</td> <td>   -3.186</td> <td>    0.440</td>\n",
       "</tr>\n",
       "<tr>\n",
       "  <th>marital_status[T.Separated]</th> <td>   -1.6299</td> <td>    1.473</td> <td>   -1.107</td> <td> 0.269</td> <td>   -4.525</td> <td>    1.265</td>\n",
       "</tr>\n",
       "<tr>\n",
       "  <th>marital_status[T.Single]</th>    <td>   -0.6161</td> <td>    1.012</td> <td>   -0.609</td> <td> 0.543</td> <td>   -2.606</td> <td>    1.373</td>\n",
       "</tr>\n",
       "<tr>\n",
       "  <th>marital_status[T.Widowed]</th>   <td>   -1.0180</td> <td>    1.327</td> <td>   -0.767</td> <td> 0.443</td> <td>   -3.626</td> <td>    1.590</td>\n",
       "</tr>\n",
       "<tr>\n",
       "  <th>amt_weekdays</th>                <td>    0.8655</td> <td>    0.032</td> <td>   27.290</td> <td> 0.000</td> <td>    0.803</td> <td>    0.928</td>\n",
       "</tr>\n",
       "<tr>\n",
       "  <th>age</th>                         <td>   -0.0546</td> <td>    0.026</td> <td>   -2.135</td> <td> 0.033</td> <td>   -0.105</td> <td>   -0.004</td>\n",
       "</tr>\n",
       "</table>\n",
       "<table class=\"simpletable\">\n",
       "<tr>\n",
       "  <th>Omnibus:</th>       <td>98.125</td> <th>  Durbin-Watson:     </th> <td>   1.895</td>\n",
       "</tr>\n",
       "<tr>\n",
       "  <th>Prob(Omnibus):</th> <td> 0.000</td> <th>  Jarque-Bera (JB):  </th> <td>2454.460</td>\n",
       "</tr>\n",
       "<tr>\n",
       "  <th>Skew:</th>          <td> 0.240</td> <th>  Prob(JB):          </th> <td>    0.00</td>\n",
       "</tr>\n",
       "<tr>\n",
       "  <th>Kurtosis:</th>      <td>14.819</td> <th>  Cond. No.          </th> <td>    336.</td>\n",
       "</tr>\n",
       "</table><br/><br/>Notes:<br/>[1] Standard Errors assume that the covariance matrix of the errors is correctly specified."
      ],
      "text/plain": [
       "<class 'statsmodels.iolib.summary.Summary'>\n",
       "\"\"\"\n",
       "                            OLS Regression Results                            \n",
       "==============================================================================\n",
       "Dep. Variable:           amt_weekends   R-squared:                       0.655\n",
       "Model:                            OLS   Adj. R-squared:                  0.649\n",
       "Method:                 Least Squares   F-statistic:                     112.2\n",
       "Date:                Wed, 07 Apr 2021   Prob (F-statistic):           2.01e-91\n",
       "Time:                        22:26:41   Log-Likelihood:                -1337.5\n",
       "No. Observations:                 421   AIC:                             2691.\n",
       "Df Residuals:                     413   BIC:                             2723.\n",
       "Df Model:                           7                                         \n",
       "Covariance Type:            nonrobust                                         \n",
       "===============================================================================================\n",
       "                                  coef    std err          t      P>|t|      [0.025      0.975]\n",
       "-----------------------------------------------------------------------------------------------\n",
       "Intercept                       7.7400      1.450      5.340      0.000       4.891      10.589\n",
       "sex[T.Male]                    -0.0387      0.600     -0.065      0.948      -1.217       1.140\n",
       "marital_status[T.Married]      -1.3727      0.922     -1.488      0.137      -3.186       0.440\n",
       "marital_status[T.Separated]    -1.6299      1.473     -1.107      0.269      -4.525       1.265\n",
       "marital_status[T.Single]       -0.6161      1.012     -0.609      0.543      -2.606       1.373\n",
       "marital_status[T.Widowed]      -1.0180      1.327     -0.767      0.443      -3.626       1.590\n",
       "amt_weekdays                    0.8655      0.032     27.290      0.000       0.803       0.928\n",
       "age                            -0.0546      0.026     -2.135      0.033      -0.105      -0.004\n",
       "==============================================================================\n",
       "Omnibus:                       98.125   Durbin-Watson:                   1.895\n",
       "Prob(Omnibus):                  0.000   Jarque-Bera (JB):             2454.460\n",
       "Skew:                           0.240   Prob(JB):                         0.00\n",
       "Kurtosis:                      14.819   Cond. No.                         336.\n",
       "==============================================================================\n",
       "\n",
       "Notes:\n",
       "[1] Standard Errors assume that the covariance matrix of the errors is correctly specified.\n",
       "\"\"\""
      ]
     },
     "execution_count": 27,
     "metadata": {},
     "output_type": "execute_result"
    }
   ],
   "source": [
    "results.summary()"
   ]
  },
  {
   "cell_type": "code",
   "execution_count": 28,
   "metadata": {},
   "outputs": [
    {
     "name": "stdout",
     "output_type": "stream",
     "text": [
      "Test Statistic: 112.2\n"
     ]
    }
   ],
   "source": [
    "test_stat_f = 112.2\n",
    "print('Test Statistic:', test_stat_f)"
   ]
  },
  {
   "cell_type": "markdown",
   "metadata": {},
   "source": [
    "#### 13.3 [1 pt]  Use the distribution that this test statistic is an observation from to calculate the p-value for this test."
   ]
  },
  {
   "cell_type": "markdown",
   "metadata": {},
   "source": []
  },
  {
   "cell_type": "code",
   "execution_count": 29,
   "metadata": {},
   "outputs": [
    {
     "name": "stdout",
     "output_type": "stream",
     "text": [
      "p-value:  1.1102230246251565e-16\n"
     ]
    }
   ],
   "source": [
    "df1 = 7 #number of slopes (p)\n",
    "df2 = 421 - 7 - 1 #n - p - 1\n",
    "\n",
    "\n",
    "from scipy.stats import f\n",
    "p_value_2 = 1 - f.cdf(test_stat_f, dfn = 7, dfd = 413)\n",
    "print('p-value: ', p_value_2)"
   ]
  },
  {
   "cell_type": "markdown",
   "metadata": {},
   "source": [
    "#### 13.4 [0.5 pt]  Make a conclusion about your hypotheses using a significance level of $\\alpha=0.10$."
   ]
  },
  {
   "cell_type": "markdown",
   "metadata": {},
   "source": [
    "the p-value < 0.10, so we reject the null and say that there is not sufficient evidence to suggest the alternative"
   ]
  }
 ],
 "metadata": {
  "kernelspec": {
   "display_name": "Python 3",
   "language": "python",
   "name": "python3"
  },
  "language_info": {
   "codemirror_mode": {
    "name": "ipython",
    "version": 3
   },
   "file_extension": ".py",
   "mimetype": "text/x-python",
   "name": "python",
   "nbconvert_exporter": "python",
   "pygments_lexer": "ipython3",
   "version": "3.8.5"
  }
 },
 "nbformat": 4,
 "nbformat_minor": 4
}
