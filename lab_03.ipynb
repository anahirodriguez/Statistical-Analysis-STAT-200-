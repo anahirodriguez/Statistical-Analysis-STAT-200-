{
 "cells": [
  {
   "cell_type": "markdown",
   "metadata": {},
   "source": [
    "## STAT 207 Lab 3: Sampling, Loops and Functions - [30 total points]"
   ]
  },
  {
   "cell_type": "markdown",
   "metadata": {},
   "source": [
    "Due: Wednesday, February 17, 11:59pm CST"
   ]
  },
  {
   "cell_type": "markdown",
   "metadata": {},
   "source": [
    "### SOLUTIONS"
   ]
  },
  {
   "cell_type": "markdown",
   "metadata": {},
   "source": [
    "This lab consists of 3 main parts. You may add as many cells as you need in order to do the exercises. To add cells use the \"Insert\" tab from the menu bar above and select \"insert cell above\" or \"insert cell below\". \n",
    "\n",
    "The data file \"cards.csv\" is included in the release. It is a data frame representing the 52 cards in a standard deck of playing cards. Each row represents one of the 52 possible cards. For further details see the course notes \"04_Sampling\".\n",
    "\n",
    "**Note: Some problems require deriving answers mathematically or explaining rather than coding.**"
   ]
  },
  {
   "cell_type": "code",
   "execution_count": 1,
   "metadata": {},
   "outputs": [],
   "source": [
    "import pandas as pd"
   ]
  },
  {
   "cell_type": "markdown",
   "metadata": {},
   "source": [
    "## Question 1: [2 pts] *Calculating* the probability of drawing a five-card hand with two diamonds.\n",
    "\n",
    "### 1a.  How many combinations of two diamonds can you make from a standard deck of cards?\n",
    "\n",
    "Hint: How many diamonds are in the deck?"
   ]
  },
  {
   "cell_type": "code",
   "execution_count": 2,
   "metadata": {},
   "outputs": [
    {
     "data": {
      "text/plain": [
       "78.0"
      ]
     },
     "execution_count": 2,
     "metadata": {},
     "output_type": "execute_result"
    }
   ],
   "source": [
    "#13 cards for every suit\n",
    "#without replacement and order does not matter\n",
    "#13!/(2! * 11!)\n",
    "#After cancelling out:\n",
    "(13 * 12)/(2)"
   ]
  },
  {
   "cell_type": "markdown",
   "metadata": {},
   "source": [
    "### 1b. [2 pts] How many combinations of three non-diamonds can you make from a standard deck of cards?\n",
    "\n",
    "Hint: How many non-diamonds are in the deck?"
   ]
  },
  {
   "cell_type": "code",
   "execution_count": 3,
   "metadata": {},
   "outputs": [
    {
     "data": {
      "text/plain": [
       "9139.0"
      ]
     },
     "execution_count": 3,
     "metadata": {},
     "output_type": "execute_result"
    }
   ],
   "source": [
    "#without replacement and order does not matter\n",
    "52-13 # =39 non-diamonds in the deck\n",
    "#39!/(3! * 36!)\n",
    "#after cancelling out: \n",
    "(39 * 38 * 37)/(3 * 2)"
   ]
  },
  {
   "cell_type": "markdown",
   "metadata": {},
   "source": [
    "### 1c. [2pts]  How many combinations of five card hands contain two diamonds and three non-diamonds?"
   ]
  },
  {
   "cell_type": "code",
   "execution_count": 4,
   "metadata": {},
   "outputs": [
    {
     "name": "stdout",
     "output_type": "stream",
     "text": [
      "The number of combinations of five card hands that contain two diamonds and three non-diamonds is 712842\n"
     ]
    }
   ],
   "source": [
    "#without replacement and order does not matter\n",
    "\n",
    "#choice a: which two distinct faces of diamond cards you will choose\n",
    "#how many possible ways can we get k=2 distinct face cards of the diamond suit\n",
    "#calculated in 1a : 78\n",
    "\n",
    "#choice b: which three distinct non-diamond cards you will choose\n",
    "#hwo many possible ways can we get k = 3 distinct cards that are not diamond\n",
    "#calculated in 1b : 9139\n",
    "\n",
    "#only include a third option to mulitply in the numerator if there is more than one combination available \n",
    "#after making a distinction between something\n",
    "    #in the full house there is different combinations of suits you can have - diamond/heart, heart/club, etc\n",
    "    #but in this example there is only diamond and non-diamond or non-diamond and diamond, so no extra calculation is needed?\n",
    "    \n",
    "    \n",
    "    \n",
    "#calculate numerator as choice a * choice b \n",
    "numerator = 78 * 9139 \n",
    "\n",
    "print(\"The number of combinations of five card hands that contain two diamonds and three non-diamonds is\", numerator)\n",
    "\n",
    "\n",
    "\n"
   ]
  },
  {
   "cell_type": "markdown",
   "metadata": {},
   "source": [
    "### 1d. [2 pts] What is the probability of randomly drawing five cards from the deck and getting a hand that has two diamond and three non-diamonds?"
   ]
  },
  {
   "cell_type": "code",
   "execution_count": 5,
   "metadata": {},
   "outputs": [
    {
     "data": {
      "text/plain": [
       "2598960.0"
      ]
     },
     "execution_count": 5,
     "metadata": {},
     "output_type": "execute_result"
    }
   ],
   "source": [
    "denominator = (52 * 51 * 50 * 49 * 48)/(5 * 4 * 3 * 2 * 1)\n",
    "denominator"
   ]
  },
  {
   "cell_type": "code",
   "execution_count": 6,
   "metadata": {},
   "outputs": [
    {
     "data": {
      "text/plain": [
       "0.2742797118847539"
      ]
     },
     "execution_count": 6,
     "metadata": {},
     "output_type": "execute_result"
    }
   ],
   "source": [
    "numerator/denominator"
   ]
  },
  {
   "cell_type": "markdown",
   "metadata": {},
   "source": [
    "## Question 2: *Approximating* the probability of drawing a five-card hand with exactly two diamonds."
   ]
  },
  {
   "cell_type": "markdown",
   "metadata": {},
   "source": [
    "### 2a. [1 pt] Read the cards.csv into a dataframe called cards and display the first five rows of the dataframe."
   ]
  },
  {
   "cell_type": "code",
   "execution_count": 7,
   "metadata": {},
   "outputs": [
    {
     "data": {
      "text/html": [
       "<div>\n",
       "<style scoped>\n",
       "    .dataframe tbody tr th:only-of-type {\n",
       "        vertical-align: middle;\n",
       "    }\n",
       "\n",
       "    .dataframe tbody tr th {\n",
       "        vertical-align: top;\n",
       "    }\n",
       "\n",
       "    .dataframe thead th {\n",
       "        text-align: right;\n",
       "    }\n",
       "</style>\n",
       "<table border=\"1\" class=\"dataframe\">\n",
       "  <thead>\n",
       "    <tr style=\"text-align: right;\">\n",
       "      <th></th>\n",
       "      <th>color</th>\n",
       "      <th>suit</th>\n",
       "      <th>face</th>\n",
       "    </tr>\n",
       "  </thead>\n",
       "  <tbody>\n",
       "    <tr>\n",
       "      <th>0</th>\n",
       "      <td>black</td>\n",
       "      <td>club</td>\n",
       "      <td>A</td>\n",
       "    </tr>\n",
       "    <tr>\n",
       "      <th>1</th>\n",
       "      <td>black</td>\n",
       "      <td>club</td>\n",
       "      <td>2</td>\n",
       "    </tr>\n",
       "    <tr>\n",
       "      <th>2</th>\n",
       "      <td>black</td>\n",
       "      <td>club</td>\n",
       "      <td>3</td>\n",
       "    </tr>\n",
       "    <tr>\n",
       "      <th>3</th>\n",
       "      <td>black</td>\n",
       "      <td>club</td>\n",
       "      <td>4</td>\n",
       "    </tr>\n",
       "    <tr>\n",
       "      <th>4</th>\n",
       "      <td>black</td>\n",
       "      <td>club</td>\n",
       "      <td>5</td>\n",
       "    </tr>\n",
       "  </tbody>\n",
       "</table>\n",
       "</div>"
      ],
      "text/plain": [
       "   color  suit face\n",
       "0  black  club    A\n",
       "1  black  club    2\n",
       "2  black  club    3\n",
       "3  black  club    4\n",
       "4  black  club    5"
      ]
     },
     "execution_count": 7,
     "metadata": {},
     "output_type": "execute_result"
    }
   ],
   "source": [
    "cards = pd.read_csv('cards.csv')\n",
    "cards.head()"
   ]
  },
  {
   "cell_type": "markdown",
   "metadata": {},
   "source": [
    "### 2b. [2 pts] Create a new dataframe called 'sample1' that is a random sample of five rows from this dataframe in the following way.\n",
    "* Sample without replacemnt.\n",
    "* Use a random state of 7.\n",
    "\n",
    "#### Then display this dataframe."
   ]
  },
  {
   "cell_type": "code",
   "execution_count": 8,
   "metadata": {},
   "outputs": [
    {
     "data": {
      "text/html": [
       "<div>\n",
       "<style scoped>\n",
       "    .dataframe tbody tr th:only-of-type {\n",
       "        vertical-align: middle;\n",
       "    }\n",
       "\n",
       "    .dataframe tbody tr th {\n",
       "        vertical-align: top;\n",
       "    }\n",
       "\n",
       "    .dataframe thead th {\n",
       "        text-align: right;\n",
       "    }\n",
       "</style>\n",
       "<table border=\"1\" class=\"dataframe\">\n",
       "  <thead>\n",
       "    <tr style=\"text-align: right;\">\n",
       "      <th></th>\n",
       "      <th>color</th>\n",
       "      <th>suit</th>\n",
       "      <th>face</th>\n",
       "    </tr>\n",
       "  </thead>\n",
       "  <tbody>\n",
       "    <tr>\n",
       "      <th>22</th>\n",
       "      <td>black</td>\n",
       "      <td>spade</td>\n",
       "      <td>10</td>\n",
       "    </tr>\n",
       "    <tr>\n",
       "      <th>27</th>\n",
       "      <td>red</td>\n",
       "      <td>diamond</td>\n",
       "      <td>2</td>\n",
       "    </tr>\n",
       "    <tr>\n",
       "      <th>34</th>\n",
       "      <td>red</td>\n",
       "      <td>diamond</td>\n",
       "      <td>9</td>\n",
       "    </tr>\n",
       "    <tr>\n",
       "      <th>15</th>\n",
       "      <td>black</td>\n",
       "      <td>spade</td>\n",
       "      <td>3</td>\n",
       "    </tr>\n",
       "    <tr>\n",
       "      <th>18</th>\n",
       "      <td>black</td>\n",
       "      <td>spade</td>\n",
       "      <td>6</td>\n",
       "    </tr>\n",
       "  </tbody>\n",
       "</table>\n",
       "</div>"
      ],
      "text/plain": [
       "    color     suit face\n",
       "22  black    spade   10\n",
       "27    red  diamond    2\n",
       "34    red  diamond    9\n",
       "15  black    spade    3\n",
       "18  black    spade    6"
      ]
     },
     "execution_count": 8,
     "metadata": {},
     "output_type": "execute_result"
    }
   ],
   "source": [
    "sample1 = cards.sample(5, replace = False, random_state = 7)\n",
    "sample1"
   ]
  },
  {
   "cell_type": "markdown",
   "metadata": {},
   "source": [
    "### 2c.  [2 pts] Suppose everyone in the class writes the same code above as you. Would you expect everyone in the class to get the same output as you? Why or why not?"
   ]
  },
  {
   "cell_type": "markdown",
   "metadata": {},
   "source": [
    "Yes, the random_state perameter when set to any number fixes a state of randomness and since everyone in the class is setting random_state as 7, we should all see the same fixed sample"
   ]
  },
  {
   "cell_type": "markdown",
   "metadata": {},
   "source": [
    "### 2d.  [2 pts] Run this code below to create the series that results from using the .value_counts() function on the 'suits' column of our sample1 dataframe. Then in the code below it, extract just the list of indices for this series.\n",
    "\n",
    "(Hint: Check Unit 2 slides)."
   ]
  },
  {
   "cell_type": "code",
   "execution_count": 9,
   "metadata": {},
   "outputs": [
    {
     "data": {
      "text/plain": [
       "spade      3\n",
       "diamond    2\n",
       "Name: suit, dtype: int64"
      ]
     },
     "execution_count": 9,
     "metadata": {},
     "output_type": "execute_result"
    }
   ],
   "source": [
    "sample1['suit'].value_counts()"
   ]
  },
  {
   "cell_type": "code",
   "execution_count": 10,
   "metadata": {},
   "outputs": [
    {
     "data": {
      "text/plain": [
       "Index(['spade', 'diamond'], dtype='object')"
      ]
     },
     "execution_count": 10,
     "metadata": {},
     "output_type": "execute_result"
    }
   ],
   "source": [
    "sample1['suit'].value_counts().index"
   ]
  },
  {
   "cell_type": "markdown",
   "metadata": {},
   "source": [
    "### Tutorial:\n",
    "\n",
    "We can extract the **value** that corresponds to a named index from a series by using the **.loc()** function."
   ]
  },
  {
   "cell_type": "code",
   "execution_count": 11,
   "metadata": {},
   "outputs": [
    {
     "data": {
      "text/plain": [
       "3"
      ]
     },
     "execution_count": 11,
     "metadata": {},
     "output_type": "execute_result"
    }
   ],
   "source": [
    "sample1['suit'].value_counts().loc['spade']"
   ]
  },
  {
   "cell_type": "markdown",
   "metadata": {},
   "source": [
    "### 2e. [1 pt] Use the .loc() function to extract the number of diamonds in sample1."
   ]
  },
  {
   "cell_type": "code",
   "execution_count": 12,
   "metadata": {},
   "outputs": [
    {
     "data": {
      "text/plain": [
       "2"
      ]
     },
     "execution_count": 12,
     "metadata": {},
     "output_type": "execute_result"
    }
   ],
   "source": [
    "sample1['suit'].value_counts().loc['diamond']"
   ]
  },
  {
   "cell_type": "markdown",
   "metadata": {},
   "source": [
    "### Tutorial:\n",
    "\n",
    "We can test whether a certain object is **not in** a list by using the **if**, **else**, and **not in** operators as shown below. "
   ]
  },
  {
   "cell_type": "code",
   "execution_count": 13,
   "metadata": {},
   "outputs": [],
   "source": [
    "#Run this\n",
    "fun_list=['Nick', 'Kevin', 'Joe']"
   ]
  },
  {
   "cell_type": "code",
   "execution_count": 14,
   "metadata": {},
   "outputs": [
    {
     "name": "stdout",
     "output_type": "stream",
     "text": [
      "this person is in the list\n"
     ]
    }
   ],
   "source": [
    "#Run this\n",
    "if 'Nick' not in fun_list:\n",
    "    print('this person is not in the list')\n",
    "else:\n",
    "    print('this person is in the list')"
   ]
  },
  {
   "cell_type": "code",
   "execution_count": 15,
   "metadata": {},
   "outputs": [
    {
     "name": "stdout",
     "output_type": "stream",
     "text": [
      "this person is not in the list\n"
     ]
    }
   ],
   "source": [
    "#Run this\n",
    "if 'Harry' not in fun_list:\n",
    "    print('this person is not in the list')\n",
    "else:\n",
    "    print('this person is in the list')"
   ]
  },
  {
   "cell_type": "markdown",
   "metadata": {},
   "source": [
    "### 2f.  [2 pts] Write a code that tests whether 'diamond' is NOT IN the index of sample1['suit'].value_counts().\n",
    "\n",
    "*  **if** 'diamond' IS NOT in the index, then the **code** should ***print 'there are no diamonds in the hand'***.\n",
    "    \n",
    "*  **else** (aka: if 'diamond' IS in the index), then the **code** should ***print 'there are diamonds in the hand'***."
   ]
  },
  {
   "cell_type": "code",
   "execution_count": 16,
   "metadata": {},
   "outputs": [
    {
     "data": {
      "text/plain": [
       "Index(['spade', 'diamond'], dtype='object')"
      ]
     },
     "execution_count": 16,
     "metadata": {},
     "output_type": "execute_result"
    }
   ],
   "source": [
    "series = sample1['suit'].value_counts().index\n",
    "series"
   ]
  },
  {
   "cell_type": "code",
   "execution_count": 17,
   "metadata": {},
   "outputs": [
    {
     "name": "stdout",
     "output_type": "stream",
     "text": [
      "there are diamonds in the hand\n"
     ]
    }
   ],
   "source": [
    "if 'diamond' not in series:\n",
    "    print(\"there are no diamonds in the hand\")\n",
    "else:\n",
    "    print(\"there are diamonds in the hand\")"
   ]
  },
  {
   "cell_type": "markdown",
   "metadata": {},
   "source": [
    "### 2g.  [2 pts] Write a code below that does the following.\n",
    "*First* it tests whether 'diamond' IS NOT in the index of the <u>sample1['suit'].value_counts()</u> series.\n",
    "\n",
    "*  **if** 'diamond' IS NOT in the index, then the **code** should <u>print 'there are no diamonds in the hand'</u>.\n",
    "    \n",
    "*  **else** (aka: if 'diamond' IS in the sample1['suit'].value_counts() variable), then the code should then test whether the **value** that corresponds to the 'diamond' index in <u>sample1['suit'].value_counts()</u> equal to 2.\n",
    "    - **if** the 'diamond' value does equal 2, then the **code** should <u>print \"there are two diamonds in the hand.\"</u>\n",
    "        \n",
    "    - **else** (aka if 'diamond' value does NOT equal 2), then the **code** should print <u>\"there are not two diamonds in the hand.\"</u>\n",
    "    \n",
    "\n",
    "#### Hint: Section 9 code in the Unit 5 notebook may be helpful here."
   ]
  },
  {
   "cell_type": "code",
   "execution_count": 18,
   "metadata": {},
   "outputs": [
    {
     "data": {
      "text/plain": [
       "spade      3\n",
       "diamond    2\n",
       "Name: suit, dtype: int64"
      ]
     },
     "execution_count": 18,
     "metadata": {},
     "output_type": "execute_result"
    }
   ],
   "source": [
    "sample1_counts = sample1['suit'].value_counts()\n",
    "sample1_counts"
   ]
  },
  {
   "cell_type": "code",
   "execution_count": 19,
   "metadata": {},
   "outputs": [
    {
     "name": "stdout",
     "output_type": "stream",
     "text": [
      "there are two diamonds in the hand\n"
     ]
    }
   ],
   "source": [
    "if 'diamond' not in sample1_counts:\n",
    "    print(\"there are no diamonds in the hand\")\n",
    "else:\n",
    "    if sample1_counts['diamond'] == 2:\n",
    "        #or sample1['suit'].value_counts().loc['diamond'] == 2 \n",
    "        print(\"there are two diamonds in the hand\")\n",
    "    else:\n",
    "        print(\"there are not two diamonds in the hand.\")"
   ]
  },
  {
   "cell_type": "markdown",
   "metadata": {},
   "source": [
    "### 2h.  [2 pts] Write a FUNCTION below that does the following.\n",
    "\n",
    "Create a function that is meant to take a dataframe df as input. The input dataframe should represent a sample dataframe of 5 cards/rows that you have sampled from the cards dataframe.\n",
    "* The function should return **False** if the sample dataframe has no diamonds.\n",
    "* The function should return a **True** if the sample dataframe contains diamonds and there are exactly two of them.\n",
    "* The function should also return **False** if the sample dataframe contains diamonds, but there are not exactly two of them.\n",
    "\n",
    "#### Hint: Section 9 code in the Unit 5 notebook may be helpful here."
   ]
  },
  {
   "cell_type": "code",
   "execution_count": 20,
   "metadata": {},
   "outputs": [],
   "source": [
    "def containsdiamond (df = cards.sample(5), var = 'suit'):\n",
    "    if any(df[var] == 'diamond'):\n",
    "        counts = df[var].value_counts()\n",
    "        if counts['diamond'] == 2:\n",
    "            return True\n",
    "        else:\n",
    "            return False\n",
    "    else:\n",
    "        return False\n",
    "    "
   ]
  },
  {
   "cell_type": "markdown",
   "metadata": {},
   "source": [
    "### 2i.  [2 pts] Test whether your sample1 dataframe contains exactly two diamonds."
   ]
  },
  {
   "cell_type": "code",
   "execution_count": 21,
   "metadata": {},
   "outputs": [
    {
     "data": {
      "text/plain": [
       "True"
      ]
     },
     "execution_count": 21,
     "metadata": {},
     "output_type": "execute_result"
    }
   ],
   "source": [
    "containsdiamond(sample1)"
   ]
  },
  {
   "cell_type": "markdown",
   "metadata": {},
   "source": [
    "### 2j.  [2 pts] Use this function to do the following.\n",
    "1. Simulate drawing 10000 hands (remember hand = 5 cards) from the 52 card deck. Each trial is randomly sampled without replacements.\n",
    "2. Test whether the trial has exactly two diamonds.\n",
    "3. Calculates the proportion of the 10000 hands that have exactly two diamonds.\n",
    "\n",
    "**Hint: DON'T use the random_state parameter in this code.**"
   ]
  },
  {
   "cell_type": "code",
   "execution_count": 22,
   "metadata": {},
   "outputs": [
    {
     "name": "stdout",
     "output_type": "stream",
     "text": [
      "Total number of hands with 2 diamonds exactly: 2751\n",
      "Total number of trials: 10000\n",
      "The proportion of the 10000 hands that have exactly two diamonds is 0.2751\n"
     ]
    }
   ],
   "source": [
    "num_trials = 10000\n",
    "diamonds2_count = 0\n",
    "\n",
    "for i in range(num_trials):\n",
    "    new_hand = cards.sample(5, replace = False)\n",
    "    diamonds2_count += containsdiamond(new_hand)\n",
    "print(\"Total number of hands with 2 diamonds exactly:\", diamonds2_count)\n",
    "print(\"Total number of trials:\", num_trials)\n",
    "print('The proportion of the', num_trials, 'hands that have exactly two diamonds is', diamonds2_count/num_trials)\n"
   ]
  },
  {
   "cell_type": "markdown",
   "metadata": {},
   "source": [
    "## Question 3:  [1 pts] Compare your approximated probability of drawing a hand with exactly two diamonds (from question 2) and the probability that you calculated (in question 1). What is the difference?"
   ]
  },
  {
   "cell_type": "code",
   "execution_count": 23,
   "metadata": {},
   "outputs": [
    {
     "data": {
      "text/plain": [
       "-0.0008202881152460928"
      ]
     },
     "execution_count": 23,
     "metadata": {},
     "output_type": "execute_result"
    }
   ],
   "source": [
    "(numerator/denominator) - (diamonds2_count/num_trials)"
   ]
  },
  {
   "cell_type": "markdown",
   "metadata": {},
   "source": [
    "## Question 4: Sampling Cards with Replacement"
   ]
  },
  {
   "cell_type": "markdown",
   "metadata": {},
   "source": [
    "### 4a:  [1 pts] Randomly sample 3 cards from the cards dataframe with replacement."
   ]
  },
  {
   "cell_type": "code",
   "execution_count": 24,
   "metadata": {},
   "outputs": [
    {
     "data": {
      "text/html": [
       "<div>\n",
       "<style scoped>\n",
       "    .dataframe tbody tr th:only-of-type {\n",
       "        vertical-align: middle;\n",
       "    }\n",
       "\n",
       "    .dataframe tbody tr th {\n",
       "        vertical-align: top;\n",
       "    }\n",
       "\n",
       "    .dataframe thead th {\n",
       "        text-align: right;\n",
       "    }\n",
       "</style>\n",
       "<table border=\"1\" class=\"dataframe\">\n",
       "  <thead>\n",
       "    <tr style=\"text-align: right;\">\n",
       "      <th></th>\n",
       "      <th>color</th>\n",
       "      <th>suit</th>\n",
       "      <th>face</th>\n",
       "    </tr>\n",
       "  </thead>\n",
       "  <tbody>\n",
       "    <tr>\n",
       "      <th>19</th>\n",
       "      <td>black</td>\n",
       "      <td>spade</td>\n",
       "      <td>7</td>\n",
       "    </tr>\n",
       "    <tr>\n",
       "      <th>1</th>\n",
       "      <td>black</td>\n",
       "      <td>club</td>\n",
       "      <td>2</td>\n",
       "    </tr>\n",
       "    <tr>\n",
       "      <th>25</th>\n",
       "      <td>black</td>\n",
       "      <td>spade</td>\n",
       "      <td>K</td>\n",
       "    </tr>\n",
       "  </tbody>\n",
       "</table>\n",
       "</div>"
      ],
      "text/plain": [
       "    color   suit face\n",
       "19  black  spade    7\n",
       "1   black   club    2\n",
       "25  black  spade    K"
      ]
     },
     "execution_count": 24,
     "metadata": {},
     "output_type": "execute_result"
    }
   ],
   "source": [
    "cards.sample(3, replace = True)"
   ]
  },
  {
   "cell_type": "markdown",
   "metadata": {},
   "source": [
    "### 4b.  [2 pts] Assume that we randomly sampled 3 cards from the deck with replacement. How many three card permutations exist for this experiment?\n",
    "\n",
    "#### Hint: \"Permutation\" imples we care about the order in which the cards were drawn."
   ]
  },
  {
   "cell_type": "code",
   "execution_count": 25,
   "metadata": {},
   "outputs": [
    {
     "data": {
      "text/plain": [
       "140608"
      ]
     },
     "execution_count": 25,
     "metadata": {},
     "output_type": "execute_result"
    }
   ],
   "source": [
    "#n to the k power\n",
    "52 ** 3"
   ]
  }
 ],
 "metadata": {
  "kernelspec": {
   "display_name": "Python 3",
   "language": "python",
   "name": "python3"
  },
  "language_info": {
   "codemirror_mode": {
    "name": "ipython",
    "version": 3
   },
   "file_extension": ".py",
   "mimetype": "text/x-python",
   "name": "python",
   "nbconvert_exporter": "python",
   "pygments_lexer": "ipython3",
   "version": "3.8.5"
  }
 },
 "nbformat": 4,
 "nbformat_minor": 2
}
