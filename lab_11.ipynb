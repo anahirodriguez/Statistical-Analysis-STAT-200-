{
 "cells": [
  {
   "cell_type": "markdown",
   "metadata": {},
   "source": [
    "# Lab 11 Classification and Predictive Analytics - [25 points]\n",
    "\n",
    "\n",
    "## <u>Case Study</u>: Creating an Accurate Classifier Model of Fake and Real Instagram Accounts\n",
    "\n",
    "We will revisit the fake_insta_cleaned.csv dataset with a different research goal in mind now. In Lab 10, we were more interested in **understanding the relationships** between the explanatory variables and the response variable (fake vs. real) in the **population of fake and real Instagram accounts**.\n",
    "\n",
    "*Now*, we are interested in building a classifier model that gives the most accurate predictions of the observations of the dataset.\n",
    "\n",
    "We will build a logistic regression model that predicts the probability that an account is fake, using the following explanatory variables.\n",
    "* the number of accounts someone *follows*\n",
    "* number of *followers*\n",
    "* number of posts\n",
    "* number of words in name\n",
    "* number of characters in the bio\n",
    "* whether they have a profile picture or not\n",
    "\n",
    "\n"
   ]
  },
  {
   "cell_type": "markdown",
   "metadata": {},
   "source": [
    "## Imports"
   ]
  },
  {
   "cell_type": "code",
   "execution_count": 8,
   "metadata": {},
   "outputs": [],
   "source": [
    "import numpy as np\n",
    "import pandas as pd\n",
    "import seaborn as sns\n",
    "import matplotlib.pyplot as plt\n",
    "import statsmodels.api as sm\n",
    "import statsmodels.formula.api as smf"
   ]
  },
  {
   "cell_type": "markdown",
   "metadata": {},
   "source": [
    "## 1. Data Preliminaries\n",
    "### 1.1 [0.5 pt] Read the fake_insta_cleaned.csv into a dataframe called df."
   ]
  },
  {
   "cell_type": "code",
   "execution_count": 2,
   "metadata": {},
   "outputs": [],
   "source": [
    "df = pd.read_csv('fake_insta_cleaned.csv')"
   ]
  },
  {
   "cell_type": "code",
   "execution_count": 3,
   "metadata": {},
   "outputs": [
    {
     "data": {
      "text/html": [
       "<div>\n",
       "<style scoped>\n",
       "    .dataframe tbody tr th:only-of-type {\n",
       "        vertical-align: middle;\n",
       "    }\n",
       "\n",
       "    .dataframe tbody tr th {\n",
       "        vertical-align: top;\n",
       "    }\n",
       "\n",
       "    .dataframe thead th {\n",
       "        text-align: right;\n",
       "    }\n",
       "</style>\n",
       "<table border=\"1\" class=\"dataframe\">\n",
       "  <thead>\n",
       "    <tr style=\"text-align: right;\">\n",
       "      <th></th>\n",
       "      <th>has_a_profile_pic</th>\n",
       "      <th>number_of_words_in_name</th>\n",
       "      <th>num_characters_in_bio</th>\n",
       "      <th>number_of_posts</th>\n",
       "      <th>number_of_followers</th>\n",
       "      <th>number_of_follows</th>\n",
       "      <th>account_type</th>\n",
       "    </tr>\n",
       "  </thead>\n",
       "  <tbody>\n",
       "    <tr>\n",
       "      <th>0</th>\n",
       "      <td>yes</td>\n",
       "      <td>1</td>\n",
       "      <td>30</td>\n",
       "      <td>35</td>\n",
       "      <td>488</td>\n",
       "      <td>604</td>\n",
       "      <td>real</td>\n",
       "    </tr>\n",
       "    <tr>\n",
       "      <th>1</th>\n",
       "      <td>yes</td>\n",
       "      <td>5</td>\n",
       "      <td>64</td>\n",
       "      <td>3</td>\n",
       "      <td>35</td>\n",
       "      <td>6</td>\n",
       "      <td>real</td>\n",
       "    </tr>\n",
       "    <tr>\n",
       "      <th>2</th>\n",
       "      <td>yes</td>\n",
       "      <td>2</td>\n",
       "      <td>82</td>\n",
       "      <td>319</td>\n",
       "      <td>328</td>\n",
       "      <td>668</td>\n",
       "      <td>real</td>\n",
       "    </tr>\n",
       "    <tr>\n",
       "      <th>3</th>\n",
       "      <td>yes</td>\n",
       "      <td>1</td>\n",
       "      <td>76</td>\n",
       "      <td>6</td>\n",
       "      <td>225</td>\n",
       "      <td>356</td>\n",
       "      <td>real</td>\n",
       "    </tr>\n",
       "    <tr>\n",
       "      <th>4</th>\n",
       "      <td>yes</td>\n",
       "      <td>1</td>\n",
       "      <td>0</td>\n",
       "      <td>6</td>\n",
       "      <td>362</td>\n",
       "      <td>424</td>\n",
       "      <td>real</td>\n",
       "    </tr>\n",
       "  </tbody>\n",
       "</table>\n",
       "</div>"
      ],
      "text/plain": [
       "  has_a_profile_pic  number_of_words_in_name  num_characters_in_bio  \\\n",
       "0               yes                        1                     30   \n",
       "1               yes                        5                     64   \n",
       "2               yes                        2                     82   \n",
       "3               yes                        1                     76   \n",
       "4               yes                        1                      0   \n",
       "\n",
       "   number_of_posts  number_of_followers  number_of_follows account_type  \n",
       "0               35                  488                604         real  \n",
       "1                3                   35                  6         real  \n",
       "2              319                  328                668         real  \n",
       "3                6                  225                356         real  \n",
       "4                6                  362                424         real  "
      ]
     },
     "execution_count": 3,
     "metadata": {},
     "output_type": "execute_result"
    }
   ],
   "source": [
    "df.head()"
   ]
  },
  {
   "cell_type": "markdown",
   "metadata": {},
   "source": [
    "### 1.2. [0.5 pt] Next, create a new variable y in df that is equal to 1 when the the account is fake and that is equal to 0 when the account is real."
   ]
  },
  {
   "cell_type": "code",
   "execution_count": 4,
   "metadata": {},
   "outputs": [
    {
     "data": {
      "text/html": [
       "<div>\n",
       "<style scoped>\n",
       "    .dataframe tbody tr th:only-of-type {\n",
       "        vertical-align: middle;\n",
       "    }\n",
       "\n",
       "    .dataframe tbody tr th {\n",
       "        vertical-align: top;\n",
       "    }\n",
       "\n",
       "    .dataframe thead th {\n",
       "        text-align: right;\n",
       "    }\n",
       "</style>\n",
       "<table border=\"1\" class=\"dataframe\">\n",
       "  <thead>\n",
       "    <tr style=\"text-align: right;\">\n",
       "      <th></th>\n",
       "      <th>has_a_profile_pic</th>\n",
       "      <th>number_of_words_in_name</th>\n",
       "      <th>num_characters_in_bio</th>\n",
       "      <th>number_of_posts</th>\n",
       "      <th>number_of_followers</th>\n",
       "      <th>number_of_follows</th>\n",
       "      <th>account_type</th>\n",
       "      <th>y</th>\n",
       "    </tr>\n",
       "  </thead>\n",
       "  <tbody>\n",
       "    <tr>\n",
       "      <th>0</th>\n",
       "      <td>yes</td>\n",
       "      <td>1</td>\n",
       "      <td>30</td>\n",
       "      <td>35</td>\n",
       "      <td>488</td>\n",
       "      <td>604</td>\n",
       "      <td>real</td>\n",
       "      <td>0</td>\n",
       "    </tr>\n",
       "    <tr>\n",
       "      <th>1</th>\n",
       "      <td>yes</td>\n",
       "      <td>5</td>\n",
       "      <td>64</td>\n",
       "      <td>3</td>\n",
       "      <td>35</td>\n",
       "      <td>6</td>\n",
       "      <td>real</td>\n",
       "      <td>0</td>\n",
       "    </tr>\n",
       "    <tr>\n",
       "      <th>2</th>\n",
       "      <td>yes</td>\n",
       "      <td>2</td>\n",
       "      <td>82</td>\n",
       "      <td>319</td>\n",
       "      <td>328</td>\n",
       "      <td>668</td>\n",
       "      <td>real</td>\n",
       "      <td>0</td>\n",
       "    </tr>\n",
       "    <tr>\n",
       "      <th>3</th>\n",
       "      <td>yes</td>\n",
       "      <td>1</td>\n",
       "      <td>76</td>\n",
       "      <td>6</td>\n",
       "      <td>225</td>\n",
       "      <td>356</td>\n",
       "      <td>real</td>\n",
       "      <td>0</td>\n",
       "    </tr>\n",
       "    <tr>\n",
       "      <th>4</th>\n",
       "      <td>yes</td>\n",
       "      <td>1</td>\n",
       "      <td>0</td>\n",
       "      <td>6</td>\n",
       "      <td>362</td>\n",
       "      <td>424</td>\n",
       "      <td>real</td>\n",
       "      <td>0</td>\n",
       "    </tr>\n",
       "  </tbody>\n",
       "</table>\n",
       "</div>"
      ],
      "text/plain": [
       "  has_a_profile_pic  number_of_words_in_name  num_characters_in_bio  \\\n",
       "0               yes                        1                     30   \n",
       "1               yes                        5                     64   \n",
       "2               yes                        2                     82   \n",
       "3               yes                        1                     76   \n",
       "4               yes                        1                      0   \n",
       "\n",
       "   number_of_posts  number_of_followers  number_of_follows account_type  y  \n",
       "0               35                  488                604         real  0  \n",
       "1                3                   35                  6         real  0  \n",
       "2              319                  328                668         real  0  \n",
       "3                6                  225                356         real  0  \n",
       "4                6                  362                424         real  0  "
      ]
     },
     "execution_count": 4,
     "metadata": {},
     "output_type": "execute_result"
    }
   ],
   "source": [
    "df['y'] = df['account_type'].map({'fake' : 1, 'real' : 0})\n",
    "df.head()"
   ]
  },
  {
   "cell_type": "markdown",
   "metadata": {},
   "source": [
    "## 2. <u>Logistic Regression Model 1</u>\n",
    "\n",
    "\n",
    "### 2.1. [1 pt] Fit a logistic regression model with y and the following explanatory variables:\n",
    "* the number of accounts someone *follows*\n",
    "* number of *followers*\n",
    "* number of posts\n",
    "* number of words in name\n",
    "* number of characters in the bio\n",
    "* whether they have a profile picture or not"
   ]
  },
  {
   "cell_type": "code",
   "execution_count": 11,
   "metadata": {},
   "outputs": [
    {
     "name": "stdout",
     "output_type": "stream",
     "text": [
      "Warning: Maximum number of iterations has been exceeded.\n",
      "         Current function value: 0.125647\n",
      "         Iterations: 35\n"
     ]
    },
    {
     "name": "stderr",
     "output_type": "stream",
     "text": [
      "/Users/anahi/opt/miniconda3/lib/python3.8/site-packages/statsmodels/base/model.py:566: ConvergenceWarning: Maximum Likelihood optimization failed to converge. Check mle_retvals\n",
      "  warnings.warn(\"Maximum Likelihood optimization failed to \"\n"
     ]
    }
   ],
   "source": [
    "mod1 = smf.logit(formula = 'y ~ number_of_follows + number_of_followers + number_of_posts + number_of_words_in_name + num_characters_in_bio + has_a_profile_pic', data = df).fit()"
   ]
  },
  {
   "cell_type": "code",
   "execution_count": 12,
   "metadata": {},
   "outputs": [
    {
     "data": {
      "text/html": [
       "<table class=\"simpletable\">\n",
       "<caption>Logit Regression Results</caption>\n",
       "<tr>\n",
       "  <th>Dep. Variable:</th>           <td>y</td>        <th>  No. Observations:  </th>  <td>   112</td>  \n",
       "</tr>\n",
       "<tr>\n",
       "  <th>Model:</th>                 <td>Logit</td>      <th>  Df Residuals:      </th>  <td>   105</td>  \n",
       "</tr>\n",
       "<tr>\n",
       "  <th>Method:</th>                 <td>MLE</td>       <th>  Df Model:          </th>  <td>     6</td>  \n",
       "</tr>\n",
       "<tr>\n",
       "  <th>Date:</th>            <td>Sun, 25 Apr 2021</td> <th>  Pseudo R-squ.:     </th>  <td>0.8186</td>  \n",
       "</tr>\n",
       "<tr>\n",
       "  <th>Time:</th>                <td>11:39:48</td>     <th>  Log-Likelihood:    </th> <td> -14.072</td> \n",
       "</tr>\n",
       "<tr>\n",
       "  <th>converged:</th>             <td>False</td>      <th>  LL-Null:           </th> <td> -77.561</td> \n",
       "</tr>\n",
       "<tr>\n",
       "  <th>Covariance Type:</th>     <td>nonrobust</td>    <th>  LLR p-value:       </th> <td>5.563e-25</td>\n",
       "</tr>\n",
       "</table>\n",
       "<table class=\"simpletable\">\n",
       "<tr>\n",
       "              <td></td>                <th>coef</th>     <th>std err</th>      <th>z</th>      <th>P>|z|</th>  <th>[0.025</th>    <th>0.975]</th>  \n",
       "</tr>\n",
       "<tr>\n",
       "  <th>Intercept</th>                <td>   85.9443</td> <td>   66.492</td> <td>    1.293</td> <td> 0.196</td> <td>  -44.378</td> <td>  216.267</td>\n",
       "</tr>\n",
       "<tr>\n",
       "  <th>has_a_profile_pic[T.yes]</th> <td>  -81.4927</td> <td>   66.087</td> <td>   -1.233</td> <td> 0.218</td> <td> -211.021</td> <td>   48.036</td>\n",
       "</tr>\n",
       "<tr>\n",
       "  <th>number_of_follows</th>        <td>    0.0091</td> <td>    0.003</td> <td>    3.332</td> <td> 0.001</td> <td>    0.004</td> <td>    0.014</td>\n",
       "</tr>\n",
       "<tr>\n",
       "  <th>number_of_followers</th>      <td>   -0.0279</td> <td>    0.009</td> <td>   -3.176</td> <td> 0.001</td> <td>   -0.045</td> <td>   -0.011</td>\n",
       "</tr>\n",
       "<tr>\n",
       "  <th>number_of_posts</th>          <td>   -0.0016</td> <td>    0.013</td> <td>   -0.121</td> <td> 0.904</td> <td>   -0.027</td> <td>    0.024</td>\n",
       "</tr>\n",
       "<tr>\n",
       "  <th>number_of_words_in_name</th>  <td>   -1.1742</td> <td>    0.559</td> <td>   -2.102</td> <td> 0.036</td> <td>   -2.269</td> <td>   -0.080</td>\n",
       "</tr>\n",
       "<tr>\n",
       "  <th>num_characters_in_bio</th>    <td>   -0.1083</td> <td>    0.047</td> <td>   -2.311</td> <td> 0.021</td> <td>   -0.200</td> <td>   -0.016</td>\n",
       "</tr>\n",
       "</table><br/><br/>Possibly complete quasi-separation: A fraction 0.48 of observations can be<br/>perfectly predicted. This might indicate that there is complete<br/>quasi-separation. In this case some parameters will not be identified."
      ],
      "text/plain": [
       "<class 'statsmodels.iolib.summary.Summary'>\n",
       "\"\"\"\n",
       "                           Logit Regression Results                           \n",
       "==============================================================================\n",
       "Dep. Variable:                      y   No. Observations:                  112\n",
       "Model:                          Logit   Df Residuals:                      105\n",
       "Method:                           MLE   Df Model:                            6\n",
       "Date:                Sun, 25 Apr 2021   Pseudo R-squ.:                  0.8186\n",
       "Time:                        11:39:48   Log-Likelihood:                -14.072\n",
       "converged:                      False   LL-Null:                       -77.561\n",
       "Covariance Type:            nonrobust   LLR p-value:                 5.563e-25\n",
       "============================================================================================\n",
       "                               coef    std err          z      P>|z|      [0.025      0.975]\n",
       "--------------------------------------------------------------------------------------------\n",
       "Intercept                   85.9443     66.492      1.293      0.196     -44.378     216.267\n",
       "has_a_profile_pic[T.yes]   -81.4927     66.087     -1.233      0.218    -211.021      48.036\n",
       "number_of_follows            0.0091      0.003      3.332      0.001       0.004       0.014\n",
       "number_of_followers         -0.0279      0.009     -3.176      0.001      -0.045      -0.011\n",
       "number_of_posts             -0.0016      0.013     -0.121      0.904      -0.027       0.024\n",
       "number_of_words_in_name     -1.1742      0.559     -2.102      0.036      -2.269      -0.080\n",
       "num_characters_in_bio       -0.1083      0.047     -2.311      0.021      -0.200      -0.016\n",
       "============================================================================================\n",
       "\n",
       "Possibly complete quasi-separation: A fraction 0.48 of observations can be\n",
       "perfectly predicted. This might indicate that there is complete\n",
       "quasi-separation. In this case some parameters will not be identified.\n",
       "\"\"\""
      ]
     },
     "execution_count": 12,
     "metadata": {},
     "output_type": "execute_result"
    }
   ],
   "source": [
    "mod1.summary()"
   ]
  },
  {
   "cell_type": "markdown",
   "metadata": {},
   "source": [
    "### 2.2  [1 pt] Which (if any) of the slopes in the logistic regression population model do we have sufficient evidence to suggest are non-zero? Use a signifiance level of $\\alpha=0.05$. Explain your answers."
   ]
  },
  {
   "cell_type": "markdown",
   "metadata": {},
   "source": [
    "We have sufficient evidence to suggest that number_of_follows, number_of_followers, number_of_words_in_name, and num_characters_in_bio slopes are non-zero using $\\alpha$ = 0.05 becuase the pvalue is less than this, so we can reject the null that there is no relationship."
   ]
  },
  {
   "cell_type": "markdown",
   "metadata": {},
   "source": [
    "## 3. <u>Logistic Regression Model 2</u>\n",
    "### 3.1.  [1 pt] Now, fit another logistic regression model, using only the explanatory variables that you selected in 2.2."
   ]
  },
  {
   "cell_type": "code",
   "execution_count": 13,
   "metadata": {},
   "outputs": [
    {
     "name": "stdout",
     "output_type": "stream",
     "text": [
      "Optimization terminated successfully.\n",
      "         Current function value: 0.400375\n",
      "         Iterations 8\n"
     ]
    }
   ],
   "source": [
    "mod2 = smf.logit(formula = 'y ~ number_of_follows + number_of_followers + number_of_words_in_name + num_characters_in_bio', data = df).fit()"
   ]
  },
  {
   "cell_type": "code",
   "execution_count": 14,
   "metadata": {},
   "outputs": [
    {
     "data": {
      "text/html": [
       "<table class=\"simpletable\">\n",
       "<caption>Logit Regression Results</caption>\n",
       "<tr>\n",
       "  <th>Dep. Variable:</th>           <td>y</td>        <th>  No. Observations:  </th>  <td>   112</td>  \n",
       "</tr>\n",
       "<tr>\n",
       "  <th>Model:</th>                 <td>Logit</td>      <th>  Df Residuals:      </th>  <td>   107</td>  \n",
       "</tr>\n",
       "<tr>\n",
       "  <th>Method:</th>                 <td>MLE</td>       <th>  Df Model:          </th>  <td>     4</td>  \n",
       "</tr>\n",
       "<tr>\n",
       "  <th>Date:</th>            <td>Sun, 25 Apr 2021</td> <th>  Pseudo R-squ.:     </th>  <td>0.4218</td>  \n",
       "</tr>\n",
       "<tr>\n",
       "  <th>Time:</th>                <td>11:42:47</td>     <th>  Log-Likelihood:    </th> <td> -44.842</td> \n",
       "</tr>\n",
       "<tr>\n",
       "  <th>converged:</th>             <td>True</td>       <th>  LL-Null:           </th> <td> -77.561</td> \n",
       "</tr>\n",
       "<tr>\n",
       "  <th>Covariance Type:</th>     <td>nonrobust</td>    <th>  LLR p-value:       </th> <td>2.081e-13</td>\n",
       "</tr>\n",
       "</table>\n",
       "<table class=\"simpletable\">\n",
       "<tr>\n",
       "             <td></td>                <th>coef</th>     <th>std err</th>      <th>z</th>      <th>P>|z|</th>  <th>[0.025</th>    <th>0.975]</th>  \n",
       "</tr>\n",
       "<tr>\n",
       "  <th>Intercept</th>               <td>    1.9815</td> <td>    0.583</td> <td>    3.397</td> <td> 0.001</td> <td>    0.838</td> <td>    3.125</td>\n",
       "</tr>\n",
       "<tr>\n",
       "  <th>number_of_follows</th>       <td>    0.0014</td> <td>    0.000</td> <td>    2.838</td> <td> 0.005</td> <td>    0.000</td> <td>    0.002</td>\n",
       "</tr>\n",
       "<tr>\n",
       "  <th>number_of_followers</th>     <td>   -0.0018</td> <td>    0.001</td> <td>   -2.027</td> <td> 0.043</td> <td>   -0.004</td> <td>-6.07e-05</td>\n",
       "</tr>\n",
       "<tr>\n",
       "  <th>number_of_words_in_name</th> <td>   -0.7723</td> <td>    0.354</td> <td>   -2.185</td> <td> 0.029</td> <td>   -1.465</td> <td>   -0.079</td>\n",
       "</tr>\n",
       "<tr>\n",
       "  <th>num_characters_in_bio</th>   <td>   -0.0622</td> <td>    0.018</td> <td>   -3.477</td> <td> 0.001</td> <td>   -0.097</td> <td>   -0.027</td>\n",
       "</tr>\n",
       "</table>"
      ],
      "text/plain": [
       "<class 'statsmodels.iolib.summary.Summary'>\n",
       "\"\"\"\n",
       "                           Logit Regression Results                           \n",
       "==============================================================================\n",
       "Dep. Variable:                      y   No. Observations:                  112\n",
       "Model:                          Logit   Df Residuals:                      107\n",
       "Method:                           MLE   Df Model:                            4\n",
       "Date:                Sun, 25 Apr 2021   Pseudo R-squ.:                  0.4218\n",
       "Time:                        11:42:47   Log-Likelihood:                -44.842\n",
       "converged:                       True   LL-Null:                       -77.561\n",
       "Covariance Type:            nonrobust   LLR p-value:                 2.081e-13\n",
       "===========================================================================================\n",
       "                              coef    std err          z      P>|z|      [0.025      0.975]\n",
       "-------------------------------------------------------------------------------------------\n",
       "Intercept                   1.9815      0.583      3.397      0.001       0.838       3.125\n",
       "number_of_follows           0.0014      0.000      2.838      0.005       0.000       0.002\n",
       "number_of_followers        -0.0018      0.001     -2.027      0.043      -0.004   -6.07e-05\n",
       "number_of_words_in_name    -0.7723      0.354     -2.185      0.029      -1.465      -0.079\n",
       "num_characters_in_bio      -0.0622      0.018     -3.477      0.001      -0.097      -0.027\n",
       "===========================================================================================\n",
       "\"\"\""
      ]
     },
     "execution_count": 14,
     "metadata": {},
     "output_type": "execute_result"
    }
   ],
   "source": [
    "mod2.summary()"
   ]
  },
  {
   "cell_type": "markdown",
   "metadata": {},
   "source": [
    "### 3.2.  [1 pt] Which (if any) of the slopes in this new logistic regression population model do we have sufficient evidence to suggest are non-zero? Use a signifiance level of $\\alpha=0.05$. Explain your answers."
   ]
  },
  {
   "cell_type": "markdown",
   "metadata": {},
   "source": [
    "We have sufficient evidence to suggest that all of the slopes are non-zero using $\\alpha$ = 0.05 becuase the pvalue is less than this, so we can reject the null that there is no relationship."
   ]
  },
  {
   "cell_type": "markdown",
   "metadata": {},
   "source": [
    "## 4. ROC and AUC Curve Comparison\n",
    "\n",
    "In #2 and #3 we created two logistic regression models (model 1 and model 2, respectively). First, we would like to select which of these two logistic regression models will be more accurate when classifying the accounts in this dataset as fake or real.\n",
    "\n",
    "### 4.1.  [1.5 pt] Plot the ROC curve and calculate the AUC for model 1."
   ]
  },
  {
   "cell_type": "code",
   "execution_count": 34,
   "metadata": {},
   "outputs": [
    {
     "name": "stdout",
     "output_type": "stream",
     "text": [
      "0.9920178799489144\n"
     ]
    }
   ],
   "source": [
    "from sklearn.metrics import confusion_matrix, roc_curve, roc_auc_score\n",
    "\n",
    "fprs,tprs,thresholds = roc_curve(y_true = df['y'],y_score = mod1.fittedvalues)\n",
    "\n",
    "\n",
    "auc = roc_auc_score(y_true = df['y'],y_score = mod1.fittedvalues)\n",
    "print(auc)"
   ]
  },
  {
   "cell_type": "code",
   "execution_count": 35,
   "metadata": {},
   "outputs": [],
   "source": [
    "def plot_roc(fpr,tpr,auc, lw = 2):\n",
    "    plt.plot(fpr,tpr, color = 'darkorange', lw = lw,\n",
    "             label = \"ROC curve (area = \"+str(round(auc,3))+')')\n",
    "    plt.plot([0,1],[0,1], color = 'navy', lw = lw, linestyle = '--')\n",
    "    plt.xlabel(\"False Positive Rate\")\n",
    "    plt.ylabel('True Positive Rate')\n",
    "    plt.title('ROC curve Mod 1')\n",
    "    plt.legend(loc = 'lower right')\n",
    "    plt.show()"
   ]
  },
  {
   "cell_type": "code",
   "execution_count": 36,
   "metadata": {},
   "outputs": [
    {
     "data": {
      "image/png": "[encoded data removed]",
      "text/plain": [
       "<Figure size 432x288 with 1 Axes>"
      ]
     },
     "metadata": {
      "needs_background": "light"
     },
     "output_type": "display_data"
    }
   ],
   "source": [
    "plot_roc(fprs,tprs,auc)"
   ]
  },
  {
   "cell_type": "markdown",
   "metadata": {},
   "source": [
    "### 4.2.  [1.5 pt] Plot the ROC curve and calculate the AUC for model 2."
   ]
  },
  {
   "cell_type": "code",
   "execution_count": 37,
   "metadata": {},
   "outputs": [
    {
     "name": "stdout",
     "output_type": "stream",
     "text": [
      "0.9169859514687101\n"
     ]
    }
   ],
   "source": [
    "fprs,tprs,thresholds = roc_curve(y_true = df['y'],y_score = mod2.fittedvalues)\n",
    "\n",
    "\n",
    "auc = roc_auc_score(y_true = df['y'],y_score = mod2.fittedvalues)\n",
    "print(auc)"
   ]
  },
  {
   "cell_type": "code",
   "execution_count": 38,
   "metadata": {},
   "outputs": [],
   "source": [
    "def plot_roc(fpr,tpr,auc, lw = 2):\n",
    "    plt.plot(fpr,tpr, color = 'darkorange', lw = lw,\n",
    "             label = \"ROC curve (area = \"+str(round(auc,3))+')')\n",
    "    plt.plot([0,1],[0,1], color = 'navy', lw = lw, linestyle = '--')\n",
    "    plt.xlabel(\"False Positive Rate\")\n",
    "    plt.ylabel('True Positive Rate')\n",
    "    plt.title('ROC curve Mod 2')\n",
    "    plt.legend(loc = 'lower right')\n",
    "    plt.show()"
   ]
  },
  {
   "cell_type": "code",
   "execution_count": 39,
   "metadata": {},
   "outputs": [
    {
     "data": {
      "image/png": "[encoded data removed]",
      "text/plain": [
       "<Figure size 432x288 with 1 Axes>"
      ]
     },
     "metadata": {
      "needs_background": "light"
     },
     "output_type": "display_data"
    }
   ],
   "source": [
    "plot_roc(fprs,tprs,auc)"
   ]
  },
  {
   "cell_type": "markdown",
   "metadata": {},
   "source": [
    "### 4.3.  [1 pt] If we could build an \"ideal\" classifier with this dataset, what would we want the false positive rate and the true positive rate of our classifications to be?"
   ]
  },
  {
   "cell_type": "markdown",
   "metadata": {},
   "source": [
    "If we could build an 'ideal' classifier with this dataset, we would want the false positie rate to be 0 and the true positive rate to be 1."
   ]
  },
  {
   "cell_type": "markdown",
   "metadata": {},
   "source": [
    "### 4.4.  [1 pt] Which of these two logistic regression models is more likely to have a predictive probability threshold that is closer to this \"ideal\" false positive rate and true positive rate? Explain."
   ]
  },
  {
   "cell_type": "markdown",
   "metadata": {},
   "source": [
    "Mod1 would be closer to this 'ideal' false positive and true positive rates because the ROC curve is closer to the point (0,1) which represents these ideal rates."
   ]
  },
  {
   "cell_type": "markdown",
   "metadata": {},
   "source": [
    "\n"
   ]
  },
  {
   "cell_type": "markdown",
   "metadata": {},
   "source": [
    "## 5. Making Classifications with Model 1 and a Predictive Probability Threshold of $p_0=0.9$.\n",
    "\n",
    "Next, for now, let's choose to use logistic regression model 1 and a predictive probability threshold of $p_0=0.9$.\n",
    "\n",
    "### 5.1.  [1 pt] Use this threshold to classify all of the accounts in the dataset as fake (ie. 1) or real (ie. 0). Add these predictions as a column in your dataframe."
   ]
  },
  {
   "cell_type": "code",
   "execution_count": 41,
   "metadata": {},
   "outputs": [],
   "source": [
    "predictive_prob = mod1.predict(exog=dict(df))\n",
    "df['predictive_prob'] = predictive_prob"
   ]
  },
  {
   "cell_type": "code",
   "execution_count": 45,
   "metadata": {},
   "outputs": [
    {
     "data": {
      "text/html": [
       "<div>\n",
       "<style scoped>\n",
       "    .dataframe tbody tr th:only-of-type {\n",
       "        vertical-align: middle;\n",
       "    }\n",
       "\n",
       "    .dataframe tbody tr th {\n",
       "        vertical-align: top;\n",
       "    }\n",
       "\n",
       "    .dataframe thead th {\n",
       "        text-align: right;\n",
       "    }\n",
       "</style>\n",
       "<table border=\"1\" class=\"dataframe\">\n",
       "  <thead>\n",
       "    <tr style=\"text-align: right;\">\n",
       "      <th></th>\n",
       "      <th>has_a_profile_pic</th>\n",
       "      <th>number_of_words_in_name</th>\n",
       "      <th>num_characters_in_bio</th>\n",
       "      <th>number_of_posts</th>\n",
       "      <th>number_of_followers</th>\n",
       "      <th>number_of_follows</th>\n",
       "      <th>account_type</th>\n",
       "      <th>y</th>\n",
       "      <th>predictive_prob</th>\n",
       "      <th>yhat</th>\n",
       "    </tr>\n",
       "  </thead>\n",
       "  <tbody>\n",
       "    <tr>\n",
       "      <th>0</th>\n",
       "      <td>yes</td>\n",
       "      <td>1</td>\n",
       "      <td>30</td>\n",
       "      <td>35</td>\n",
       "      <td>488</td>\n",
       "      <td>604</td>\n",
       "      <td>real</td>\n",
       "      <td>0</td>\n",
       "      <td>0.000296</td>\n",
       "      <td>0</td>\n",
       "    </tr>\n",
       "    <tr>\n",
       "      <th>1</th>\n",
       "      <td>yes</td>\n",
       "      <td>5</td>\n",
       "      <td>64</td>\n",
       "      <td>3</td>\n",
       "      <td>35</td>\n",
       "      <td>6</td>\n",
       "      <td>real</td>\n",
       "      <td>0</td>\n",
       "      <td>0.000094</td>\n",
       "      <td>0</td>\n",
       "    </tr>\n",
       "    <tr>\n",
       "      <th>2</th>\n",
       "      <td>yes</td>\n",
       "      <td>2</td>\n",
       "      <td>82</td>\n",
       "      <td>319</td>\n",
       "      <td>328</td>\n",
       "      <td>668</td>\n",
       "      <td>real</td>\n",
       "      <td>0</td>\n",
       "      <td>0.000032</td>\n",
       "      <td>0</td>\n",
       "    </tr>\n",
       "    <tr>\n",
       "      <th>3</th>\n",
       "      <td>yes</td>\n",
       "      <td>1</td>\n",
       "      <td>76</td>\n",
       "      <td>6</td>\n",
       "      <td>225</td>\n",
       "      <td>356</td>\n",
       "      <td>real</td>\n",
       "      <td>0</td>\n",
       "      <td>0.000338</td>\n",
       "      <td>0</td>\n",
       "    </tr>\n",
       "    <tr>\n",
       "      <th>4</th>\n",
       "      <td>yes</td>\n",
       "      <td>1</td>\n",
       "      <td>0</td>\n",
       "      <td>6</td>\n",
       "      <td>362</td>\n",
       "      <td>424</td>\n",
       "      <td>real</td>\n",
       "      <td>0</td>\n",
       "      <td>0.049266</td>\n",
       "      <td>0</td>\n",
       "    </tr>\n",
       "  </tbody>\n",
       "</table>\n",
       "</div>"
      ],
      "text/plain": [
       "  has_a_profile_pic  number_of_words_in_name  num_characters_in_bio  \\\n",
       "0               yes                        1                     30   \n",
       "1               yes                        5                     64   \n",
       "2               yes                        2                     82   \n",
       "3               yes                        1                     76   \n",
       "4               yes                        1                      0   \n",
       "\n",
       "   number_of_posts  number_of_followers  number_of_follows account_type  y  \\\n",
       "0               35                  488                604         real  0   \n",
       "1                3                   35                  6         real  0   \n",
       "2              319                  328                668         real  0   \n",
       "3                6                  225                356         real  0   \n",
       "4                6                  362                424         real  0   \n",
       "\n",
       "   predictive_prob  yhat  \n",
       "0         0.000296     0  \n",
       "1         0.000094     0  \n",
       "2         0.000032     0  \n",
       "3         0.000338     0  \n",
       "4         0.049266     0  "
      ]
     },
     "execution_count": 45,
     "metadata": {},
     "output_type": "execute_result"
    }
   ],
   "source": [
    "df['yhat'] = 1 * (df['predictive_prob']>0.9)\n",
    "df.head()"
   ]
  },
  {
   "cell_type": "markdown",
   "metadata": {},
   "source": [
    "### 5.2.  [1.5 pt] What is the number of true positives, true negatives, false positives, and false negatives of this classification?"
   ]
  },
  {
   "cell_type": "code",
   "execution_count": 50,
   "metadata": {},
   "outputs": [
    {
     "data": {
      "text/plain": [
       "(54, 0, 11, 47)"
      ]
     },
     "execution_count": 50,
     "metadata": {},
     "output_type": "execute_result"
    }
   ],
   "source": [
    "tn,fp,fn,tp = confusion_matrix(y_true = df['y'], y_pred = df['yhat']).ravel()\n",
    "(tn,fp,fn,tp)"
   ]
  },
  {
   "cell_type": "markdown",
   "metadata": {},
   "source": [
    "true positives: 47, true negatives: 54, false positives: 0, false negatives: 11"
   ]
  },
  {
   "cell_type": "markdown",
   "metadata": {},
   "source": [
    "### 5.3.  [1.5pt] What does a true positive, true negative, false positive, and false negative mean in the context of this problem? Ie. put these definitions into words in the context of this problem."
   ]
  },
  {
   "cell_type": "markdown",
   "metadata": {},
   "source": [
    "A true poistive would be an observation that is a fake account and that was classified correctly whereas a false positive would be an observationt that is a real account but that was falsely classified as fake (true). A true negative would be an observation that is a real account and that was classified correctly as a real account whereas a false negative would be an observationt that is fake but is falsely classified as being a real account (false)."
   ]
  },
  {
   "cell_type": "markdown",
   "metadata": {},
   "source": [
    "### 5.4.  [1 pt] Calculate the sensitivity for this classification."
   ]
  },
  {
   "cell_type": "code",
   "execution_count": 52,
   "metadata": {},
   "outputs": [
    {
     "name": "stdout",
     "output_type": "stream",
     "text": [
      "sensitivity:  0.8103448275862069\n"
     ]
    }
   ],
   "source": [
    "sensitivity = tp/(tp + fn)\n",
    "print('sensitivity: ', sensitivity)"
   ]
  },
  {
   "cell_type": "markdown",
   "metadata": {},
   "source": [
    "### 5.5.  [1 pt] Calculate the true positive rate for this classification."
   ]
  },
  {
   "cell_type": "code",
   "execution_count": 53,
   "metadata": {},
   "outputs": [
    {
     "name": "stdout",
     "output_type": "stream",
     "text": [
      "true positive rate:  0.8103448275862069\n"
     ]
    }
   ],
   "source": [
    "print('true positive rate: ', sensitivity)"
   ]
  },
  {
   "cell_type": "markdown",
   "metadata": {},
   "source": [
    "### 5.6.  [1 pt] Calculate the specificity for this classification."
   ]
  },
  {
   "cell_type": "code",
   "execution_count": 56,
   "metadata": {},
   "outputs": [
    {
     "name": "stdout",
     "output_type": "stream",
     "text": [
      "specificity:  1.0\n"
     ]
    }
   ],
   "source": [
    "specificity = tn/(tn + fp)\n",
    "print('specificity: ', specificity)"
   ]
  },
  {
   "cell_type": "markdown",
   "metadata": {},
   "source": [
    "### 5.7.  [1 pt] Finally, calculate the false positive rate for this classification."
   ]
  },
  {
   "cell_type": "code",
   "execution_count": 57,
   "metadata": {},
   "outputs": [
    {
     "name": "stdout",
     "output_type": "stream",
     "text": [
      "false positive rate:  0.0\n"
     ]
    }
   ],
   "source": [
    "print('false positive rate: ',1 - specificity)"
   ]
  },
  {
   "cell_type": "markdown",
   "metadata": {},
   "source": [
    "## 6. Making Classifications with Model 1 and a Predictive Probability Threshold of $p_0=0.1$.\n",
    "\n",
    "Next, let's choose to use logistic regression model 1 and a predictive probability threshold of $p_0=0.1$.\n",
    "\n",
    "### 6.1.  [1 pt] Use this threshold to classify all of the accounts in the dataset as fake (ie. 1) or real (ie. 0). Add these predictions as a column in your dataframe."
   ]
  },
  {
   "cell_type": "code",
   "execution_count": 58,
   "metadata": {},
   "outputs": [
    {
     "data": {
      "text/html": [
       "<div>\n",
       "<style scoped>\n",
       "    .dataframe tbody tr th:only-of-type {\n",
       "        vertical-align: middle;\n",
       "    }\n",
       "\n",
       "    .dataframe tbody tr th {\n",
       "        vertical-align: top;\n",
       "    }\n",
       "\n",
       "    .dataframe thead th {\n",
       "        text-align: right;\n",
       "    }\n",
       "</style>\n",
       "<table border=\"1\" class=\"dataframe\">\n",
       "  <thead>\n",
       "    <tr style=\"text-align: right;\">\n",
       "      <th></th>\n",
       "      <th>has_a_profile_pic</th>\n",
       "      <th>number_of_words_in_name</th>\n",
       "      <th>num_characters_in_bio</th>\n",
       "      <th>number_of_posts</th>\n",
       "      <th>number_of_followers</th>\n",
       "      <th>number_of_follows</th>\n",
       "      <th>account_type</th>\n",
       "      <th>y</th>\n",
       "      <th>predictive_prob</th>\n",
       "      <th>yhat</th>\n",
       "    </tr>\n",
       "  </thead>\n",
       "  <tbody>\n",
       "    <tr>\n",
       "      <th>0</th>\n",
       "      <td>yes</td>\n",
       "      <td>1</td>\n",
       "      <td>30</td>\n",
       "      <td>35</td>\n",
       "      <td>488</td>\n",
       "      <td>604</td>\n",
       "      <td>real</td>\n",
       "      <td>0</td>\n",
       "      <td>0.000296</td>\n",
       "      <td>0</td>\n",
       "    </tr>\n",
       "    <tr>\n",
       "      <th>1</th>\n",
       "      <td>yes</td>\n",
       "      <td>5</td>\n",
       "      <td>64</td>\n",
       "      <td>3</td>\n",
       "      <td>35</td>\n",
       "      <td>6</td>\n",
       "      <td>real</td>\n",
       "      <td>0</td>\n",
       "      <td>0.000094</td>\n",
       "      <td>0</td>\n",
       "    </tr>\n",
       "    <tr>\n",
       "      <th>2</th>\n",
       "      <td>yes</td>\n",
       "      <td>2</td>\n",
       "      <td>82</td>\n",
       "      <td>319</td>\n",
       "      <td>328</td>\n",
       "      <td>668</td>\n",
       "      <td>real</td>\n",
       "      <td>0</td>\n",
       "      <td>0.000032</td>\n",
       "      <td>0</td>\n",
       "    </tr>\n",
       "    <tr>\n",
       "      <th>3</th>\n",
       "      <td>yes</td>\n",
       "      <td>1</td>\n",
       "      <td>76</td>\n",
       "      <td>6</td>\n",
       "      <td>225</td>\n",
       "      <td>356</td>\n",
       "      <td>real</td>\n",
       "      <td>0</td>\n",
       "      <td>0.000338</td>\n",
       "      <td>0</td>\n",
       "    </tr>\n",
       "    <tr>\n",
       "      <th>4</th>\n",
       "      <td>yes</td>\n",
       "      <td>1</td>\n",
       "      <td>0</td>\n",
       "      <td>6</td>\n",
       "      <td>362</td>\n",
       "      <td>424</td>\n",
       "      <td>real</td>\n",
       "      <td>0</td>\n",
       "      <td>0.049266</td>\n",
       "      <td>0</td>\n",
       "    </tr>\n",
       "  </tbody>\n",
       "</table>\n",
       "</div>"
      ],
      "text/plain": [
       "  has_a_profile_pic  number_of_words_in_name  num_characters_in_bio  \\\n",
       "0               yes                        1                     30   \n",
       "1               yes                        5                     64   \n",
       "2               yes                        2                     82   \n",
       "3               yes                        1                     76   \n",
       "4               yes                        1                      0   \n",
       "\n",
       "   number_of_posts  number_of_followers  number_of_follows account_type  y  \\\n",
       "0               35                  488                604         real  0   \n",
       "1                3                   35                  6         real  0   \n",
       "2              319                  328                668         real  0   \n",
       "3                6                  225                356         real  0   \n",
       "4                6                  362                424         real  0   \n",
       "\n",
       "   predictive_prob  yhat  \n",
       "0         0.000296     0  \n",
       "1         0.000094     0  \n",
       "2         0.000032     0  \n",
       "3         0.000338     0  \n",
       "4         0.049266     0  "
      ]
     },
     "execution_count": 58,
     "metadata": {},
     "output_type": "execute_result"
    }
   ],
   "source": [
    "df['yhat'] = 1 * (df['predictive_prob']>0.1)\n",
    "df.head()"
   ]
  },
  {
   "cell_type": "markdown",
   "metadata": {},
   "source": [
    "### 6.2.  [1 pt] What is the false positive rate and the true positive rate of these classifications?"
   ]
  },
  {
   "cell_type": "code",
   "execution_count": 59,
   "metadata": {},
   "outputs": [
    {
     "data": {
      "text/plain": [
       "(45, 9, 1, 57)"
      ]
     },
     "execution_count": 59,
     "metadata": {},
     "output_type": "execute_result"
    }
   ],
   "source": [
    "tn,fp,fn,tp = confusion_matrix(y_true = df['y'], y_pred = df['yhat']).ravel()\n",
    "(tn,fp,fn,tp)"
   ]
  },
  {
   "cell_type": "code",
   "execution_count": 60,
   "metadata": {},
   "outputs": [
    {
     "name": "stdout",
     "output_type": "stream",
     "text": [
      "false positive rate:  0.16666666666666663\n"
     ]
    }
   ],
   "source": [
    "specificity = tn/(tn + fp)\n",
    "print('false positive rate: ',1 - specificity)"
   ]
  },
  {
   "cell_type": "code",
   "execution_count": 61,
   "metadata": {},
   "outputs": [
    {
     "name": "stdout",
     "output_type": "stream",
     "text": [
      "true postive rate:  0.9827586206896551\n"
     ]
    }
   ],
   "source": [
    "sensitivity = tp/(tp + fn)\n",
    "print('true postive rate: ', sensitivity)"
   ]
  },
  {
   "cell_type": "markdown",
   "metadata": {},
   "source": [
    "## 7.  [2 pt] Suggesting a Classifier to a Client\n",
    "\n",
    "Suppose you are a data scientist that works at Instagram and you have two clients with different goals.\n",
    "\n",
    "* <u>Client 1</u>: This client is an aspiring Instagram influencer that cares very much about *only* following real accounts. If the classifier classifies an account as fake, this client will not follow that account. Therefore they would like to be able to identify fake accounts as accurately as possible. However, it is not a big deal if the classifier inaccurately classifies a real account as fake.\n",
    "\n",
    "* <u>Client 2</u>: \"Client 2\" is actually your boss at Instagram, and they tell you to delete all accounts that your classifier model thinks are fake. However, there is a huge penalty for deleting an account that is actually real.\n",
    "\n",
    "\n",
    "### Which client would you choose to recommend predictive probability threshold $p_0=0.9$ to? Which client would you choose to recommend predictive probability threshold $p_0=0.1$ to? Explain."
   ]
  },
  {
   "cell_type": "markdown",
   "metadata": {},
   "source": [
    "$p_0=0.1$ for client 1 becuase the true positive rate is higher than the classifier with the $p_0=0.9$ threshold, indicating that the $p_0=0.1$ threshold yields a higher rate of correctly classifying when accounts are fake. $p_0=0.9$ for client 2 becuase the false positive rate is 0 , indicating that the classifier never falsely classifies a fake account as real."
   ]
  },
  {
   "cell_type": "markdown",
   "metadata": {},
   "source": [
    "<hr style=\"height:1px;border:none;color:#333;background-color:#333;\" />\n",
    "\n",
    "## <u>Tutorial</u>: Iterating Through a Range of Values with a Step Size\n",
    "\n",
    "The numpy function **arange(lower_bound, upper_bound, step_size)** produces an array of numbers in which:\n",
    "* lower_bound: is the first number in the array\n",
    "* upper_bound-step_size: is the last number in the array\n",
    "* step_size: is the step size interval in the array.\n",
    "\n",
    "For instance the code below creates an array going from 0 to 9.5 with a step size of 0.5."
   ]
  },
  {
   "cell_type": "code",
   "execution_count": 62,
   "metadata": {},
   "outputs": [
    {
     "name": "stdout",
     "output_type": "stream",
     "text": [
      "0.0\n",
      "0.5\n",
      "1.0\n",
      "1.5\n",
      "2.0\n",
      "2.5\n",
      "3.0\n",
      "3.5\n",
      "4.0\n",
      "4.5\n",
      "5.0\n",
      "5.5\n",
      "6.0\n",
      "6.5\n",
      "7.0\n",
      "7.5\n",
      "8.0\n",
      "8.5\n",
      "9.0\n",
      "9.5\n"
     ]
    }
   ],
   "source": [
    "import numpy as np\n",
    "for i in np.arange(0,10,.5):\n",
    "    print(i)"
   ]
  },
  {
   "cell_type": "markdown",
   "metadata": {},
   "source": [
    "<hr style=\"height:1px;border:none;color:#333;background-color:#333;\" />\n",
    "\n",
    "\n",
    "## 8. Choosing the Predictive Probability Threshold we Want\n",
    "\n",
    "### 8.1.  [2 pt] With logistic regression model 1, calculate the corresponding false positive rate and the true positive rate for each of the predictive probability thresholds of $p_0=0,  p_0=0.01, p_0=0.02, p_0=0.03,...,p_0=1$.\n",
    "\n",
    "You will need a for-loop!"
   ]
  },
  {
   "cell_type": "code",
   "execution_count": 67,
   "metadata": {},
   "outputs": [
    {
     "name": "stdout",
     "output_type": "stream",
     "text": [
      "0.0\n",
      "false positive rate:  1.0\n",
      "true postive rate:  1.0\n",
      "0.01\n",
      "false positive rate:  0.33333333333333337\n",
      "true postive rate:  0.9827586206896551\n",
      "0.02\n",
      "false positive rate:  0.31481481481481477\n",
      "true postive rate:  0.9827586206896551\n",
      "0.03\n",
      "false positive rate:  0.31481481481481477\n",
      "true postive rate:  0.9827586206896551\n",
      "0.04\n",
      "false positive rate:  0.2592592592592593\n",
      "true postive rate:  0.9827586206896551\n",
      "0.05\n",
      "false positive rate:  0.2222222222222222\n",
      "true postive rate:  0.9827586206896551\n",
      "0.06\n",
      "false positive rate:  0.2222222222222222\n",
      "true postive rate:  0.9827586206896551\n",
      "0.07\n",
      "false positive rate:  0.18518518518518523\n",
      "true postive rate:  0.9827586206896551\n",
      "0.08\n",
      "false positive rate:  0.18518518518518523\n",
      "true postive rate:  0.9827586206896551\n",
      "0.09\n",
      "false positive rate:  0.16666666666666663\n",
      "true postive rate:  0.9827586206896551\n",
      "0.1\n",
      "false positive rate:  0.16666666666666663\n",
      "true postive rate:  0.9827586206896551\n",
      "0.11\n",
      "false positive rate:  0.16666666666666663\n",
      "true postive rate:  0.9827586206896551\n",
      "0.12\n",
      "false positive rate:  0.16666666666666663\n",
      "true postive rate:  0.9827586206896551\n",
      "0.13\n",
      "false positive rate:  0.16666666666666663\n",
      "true postive rate:  0.9827586206896551\n",
      "0.14\n",
      "false positive rate:  0.16666666666666663\n",
      "true postive rate:  0.9827586206896551\n",
      "0.15\n",
      "false positive rate:  0.16666666666666663\n",
      "true postive rate:  0.9827586206896551\n",
      "0.16\n",
      "false positive rate:  0.12962962962962965\n",
      "true postive rate:  0.9827586206896551\n",
      "0.17\n",
      "false positive rate:  0.12962962962962965\n",
      "true postive rate:  0.9827586206896551\n",
      "0.18\n",
      "false positive rate:  0.12962962962962965\n",
      "true postive rate:  0.9827586206896551\n",
      "0.19\n",
      "false positive rate:  0.12962962962962965\n",
      "true postive rate:  0.9827586206896551\n",
      "0.2\n",
      "false positive rate:  0.12962962962962965\n",
      "true postive rate:  0.9827586206896551\n",
      "0.21\n",
      "false positive rate:  0.12962962962962965\n",
      "true postive rate:  0.9827586206896551\n",
      "0.22\n",
      "false positive rate:  0.12962962962962965\n",
      "true postive rate:  0.9827586206896551\n",
      "0.23\n",
      "false positive rate:  0.09259259259259256\n",
      "true postive rate:  0.9827586206896551\n",
      "0.24\n",
      "false positive rate:  0.09259259259259256\n",
      "true postive rate:  0.9827586206896551\n",
      "0.25\n",
      "false positive rate:  0.09259259259259256\n",
      "true postive rate:  0.9827586206896551\n",
      "0.26\n",
      "false positive rate:  0.09259259259259256\n",
      "true postive rate:  0.9827586206896551\n",
      "0.27\n",
      "false positive rate:  0.09259259259259256\n",
      "true postive rate:  0.9827586206896551\n",
      "0.28\n",
      "false positive rate:  0.09259259259259256\n",
      "true postive rate:  0.9827586206896551\n",
      "0.29\n",
      "false positive rate:  0.09259259259259256\n",
      "true postive rate:  0.9827586206896551\n",
      "0.3\n",
      "false positive rate:  0.09259259259259256\n",
      "true postive rate:  0.9827586206896551\n",
      "0.31\n",
      "false positive rate:  0.09259259259259256\n",
      "true postive rate:  0.9827586206896551\n",
      "0.32\n",
      "false positive rate:  0.09259259259259256\n",
      "true postive rate:  0.9827586206896551\n",
      "0.33\n",
      "false positive rate:  0.07407407407407407\n",
      "true postive rate:  0.9827586206896551\n",
      "0.34\n",
      "false positive rate:  0.07407407407407407\n",
      "true postive rate:  0.9827586206896551\n",
      "0.35000000000000003\n",
      "false positive rate:  0.07407407407407407\n",
      "true postive rate:  0.9827586206896551\n",
      "0.36\n",
      "false positive rate:  0.07407407407407407\n",
      "true postive rate:  0.9827586206896551\n",
      "0.37\n",
      "false positive rate:  0.07407407407407407\n",
      "true postive rate:  0.9827586206896551\n",
      "0.38\n",
      "false positive rate:  0.07407407407407407\n",
      "true postive rate:  0.9827586206896551\n",
      "0.39\n",
      "false positive rate:  0.07407407407407407\n",
      "true postive rate:  0.9827586206896551\n",
      "0.4\n",
      "false positive rate:  0.07407407407407407\n",
      "true postive rate:  0.9827586206896551\n",
      "0.41000000000000003\n",
      "false positive rate:  0.05555555555555558\n",
      "true postive rate:  0.9827586206896551\n",
      "0.42\n",
      "false positive rate:  0.05555555555555558\n",
      "true postive rate:  0.9827586206896551\n",
      "0.43\n",
      "false positive rate:  0.05555555555555558\n",
      "true postive rate:  0.9827586206896551\n",
      "0.44\n",
      "false positive rate:  0.05555555555555558\n",
      "true postive rate:  0.9827586206896551\n",
      "0.45\n",
      "false positive rate:  0.05555555555555558\n",
      "true postive rate:  0.9827586206896551\n",
      "0.46\n",
      "false positive rate:  0.05555555555555558\n",
      "true postive rate:  0.9827586206896551\n",
      "0.47000000000000003\n",
      "false positive rate:  0.05555555555555558\n",
      "true postive rate:  0.9827586206896551\n",
      "0.48\n",
      "false positive rate:  0.05555555555555558\n",
      "true postive rate:  0.9827586206896551\n",
      "0.49\n",
      "false positive rate:  0.05555555555555558\n",
      "true postive rate:  0.9827586206896551\n",
      "0.5\n",
      "false positive rate:  0.05555555555555558\n",
      "true postive rate:  0.9827586206896551\n",
      "0.51\n",
      "false positive rate:  0.05555555555555558\n",
      "true postive rate:  0.9827586206896551\n",
      "0.52\n",
      "false positive rate:  0.03703703703703709\n",
      "true postive rate:  0.9827586206896551\n",
      "0.53\n",
      "false positive rate:  0.03703703703703709\n",
      "true postive rate:  0.9827586206896551\n",
      "0.54\n",
      "false positive rate:  0.03703703703703709\n",
      "true postive rate:  0.9827586206896551\n",
      "0.55\n",
      "false positive rate:  0.03703703703703709\n",
      "true postive rate:  0.9827586206896551\n",
      "0.56\n",
      "false positive rate:  0.03703703703703709\n",
      "true postive rate:  0.9827586206896551\n",
      "0.5700000000000001\n",
      "false positive rate:  0.03703703703703709\n",
      "true postive rate:  0.9827586206896551\n",
      "0.58\n",
      "false positive rate:  0.03703703703703709\n",
      "true postive rate:  0.9827586206896551\n",
      "0.59\n",
      "false positive rate:  0.03703703703703709\n",
      "true postive rate:  0.9655172413793104\n",
      "0.6\n",
      "false positive rate:  0.03703703703703709\n",
      "true postive rate:  0.9655172413793104\n",
      "0.61\n",
      "false positive rate:  0.03703703703703709\n",
      "true postive rate:  0.9482758620689655\n",
      "0.62\n",
      "false positive rate:  0.03703703703703709\n",
      "true postive rate:  0.9482758620689655\n",
      "0.63\n",
      "false positive rate:  0.01851851851851849\n",
      "true postive rate:  0.9482758620689655\n",
      "0.64\n",
      "false positive rate:  0.01851851851851849\n",
      "true postive rate:  0.9482758620689655\n",
      "0.65\n",
      "false positive rate:  0.01851851851851849\n",
      "true postive rate:  0.9310344827586207\n",
      "0.66\n",
      "false positive rate:  0.01851851851851849\n",
      "true postive rate:  0.9310344827586207\n",
      "0.67\n",
      "false positive rate:  0.01851851851851849\n",
      "true postive rate:  0.9310344827586207\n",
      "0.68\n",
      "false positive rate:  0.01851851851851849\n",
      "true postive rate:  0.9310344827586207\n",
      "0.6900000000000001\n",
      "false positive rate:  0.01851851851851849\n",
      "true postive rate:  0.9310344827586207\n",
      "0.7000000000000001\n",
      "false positive rate:  0.01851851851851849\n",
      "true postive rate:  0.9310344827586207\n",
      "0.71\n",
      "false positive rate:  0.01851851851851849\n",
      "true postive rate:  0.9310344827586207\n",
      "0.72\n",
      "false positive rate:  0.01851851851851849\n",
      "true postive rate:  0.9310344827586207\n",
      "0.73\n",
      "false positive rate:  0.01851851851851849\n",
      "true postive rate:  0.9310344827586207\n",
      "0.74\n",
      "false positive rate:  0.01851851851851849\n",
      "true postive rate:  0.9310344827586207\n",
      "0.75\n",
      "false positive rate:  0.01851851851851849\n",
      "true postive rate:  0.9137931034482759\n",
      "0.76\n",
      "false positive rate:  0.01851851851851849\n",
      "true postive rate:  0.9137931034482759\n",
      "0.77\n",
      "false positive rate:  0.01851851851851849\n",
      "true postive rate:  0.9137931034482759\n",
      "0.78\n",
      "false positive rate:  0.01851851851851849\n",
      "true postive rate:  0.9137931034482759\n",
      "0.79\n",
      "false positive rate:  0.0\n",
      "FALSE POSTIVE RATE 0\n",
      "true postive rate:  0.9137931034482759\n",
      "0.8\n",
      "false positive rate:  0.0\n",
      "FALSE POSTIVE RATE 0\n",
      "true postive rate:  0.9137931034482759\n",
      "0.81\n",
      "false positive rate:  0.0\n",
      "FALSE POSTIVE RATE 0\n",
      "true postive rate:  0.9137931034482759\n",
      "0.8200000000000001\n",
      "false positive rate:  0.0\n",
      "FALSE POSTIVE RATE 0\n",
      "true postive rate:  0.8793103448275862\n",
      "0.8300000000000001\n",
      "false positive rate:  0.0\n",
      "FALSE POSTIVE RATE 0\n",
      "true postive rate:  0.8448275862068966\n",
      "0.84\n",
      "false positive rate:  0.0\n",
      "FALSE POSTIVE RATE 0\n",
      "true postive rate:  0.8448275862068966\n",
      "0.85\n",
      "false positive rate:  0.0\n",
      "FALSE POSTIVE RATE 0\n",
      "true postive rate:  0.8448275862068966\n",
      "0.86\n",
      "false positive rate:  0.0\n",
      "FALSE POSTIVE RATE 0\n",
      "true postive rate:  0.8448275862068966\n",
      "0.87\n",
      "false positive rate:  0.0\n",
      "FALSE POSTIVE RATE 0\n",
      "true postive rate:  0.8275862068965517\n",
      "0.88\n",
      "false positive rate:  0.0\n",
      "FALSE POSTIVE RATE 0\n",
      "true postive rate:  0.8103448275862069\n",
      "0.89\n",
      "false positive rate:  0.0\n",
      "FALSE POSTIVE RATE 0\n",
      "true postive rate:  0.8103448275862069\n",
      "0.9\n",
      "false positive rate:  0.0\n",
      "FALSE POSTIVE RATE 0\n",
      "true postive rate:  0.8103448275862069\n",
      "0.91\n",
      "false positive rate:  0.0\n",
      "FALSE POSTIVE RATE 0\n",
      "true postive rate:  0.7931034482758621\n",
      "0.92\n",
      "false positive rate:  0.0\n",
      "FALSE POSTIVE RATE 0\n",
      "true postive rate:  0.7931034482758621\n",
      "0.93\n",
      "false positive rate:  0.0\n",
      "FALSE POSTIVE RATE 0\n",
      "true postive rate:  0.7931034482758621\n",
      "0.9400000000000001\n",
      "false positive rate:  0.0\n",
      "FALSE POSTIVE RATE 0\n",
      "true postive rate:  0.7586206896551724\n",
      "0.9500000000000001\n",
      "false positive rate:  0.0\n",
      "FALSE POSTIVE RATE 0\n",
      "true postive rate:  0.7413793103448276\n",
      "0.96\n",
      "false positive rate:  0.0\n",
      "FALSE POSTIVE RATE 0\n",
      "true postive rate:  0.7241379310344828\n",
      "0.97\n",
      "false positive rate:  0.0\n",
      "FALSE POSTIVE RATE 0\n",
      "true postive rate:  0.7068965517241379\n",
      "0.98\n",
      "false positive rate:  0.0\n",
      "FALSE POSTIVE RATE 0\n",
      "true postive rate:  0.6896551724137931\n",
      "0.99\n",
      "false positive rate:  0.0\n",
      "FALSE POSTIVE RATE 0\n",
      "true postive rate:  0.6379310344827587\n"
     ]
    }
   ],
   "source": [
    "for i in np.arange(0,1,0.01):\n",
    "    df['yhat'] = 1 * (df['predictive_prob']>i)\n",
    "    tn,fp,fn,tp = confusion_matrix(y_true = df['y'], y_pred = df['yhat']).ravel()\n",
    "    print(i)\n",
    "    specificity = tn/(tn + fp)\n",
    "    print('false positive rate: ',1 - specificity)\n",
    "    if (1-specificity) == 0:\n",
    "        print(\"FALSE POSTIVE RATE 0\")\n",
    "    sensitivity = tp/(tp + fn)\n",
    "    print('true postive rate: ', sensitivity)\n",
    "    \n",
    "    "
   ]
  },
  {
   "cell_type": "markdown",
   "metadata": {},
   "source": [
    "### 8.2.  [1 pt] Which predictive probability threshold $p_0$ will give us the largest true positive rate with a false positive rate that is 0?"
   ]
  },
  {
   "cell_type": "markdown",
   "metadata": {},
   "source": [
    "The predictive probabilities of 0.79, 0.8, 0.81 all have a false positive rate of 0 and equal true postive rates of 0.9137931034482759"
   ]
  }
 ],
 "metadata": {
  "kernelspec": {
   "display_name": "Python 3",
   "language": "python",
   "name": "python3"
  },
  "language_info": {
   "codemirror_mode": {
    "name": "ipython",
    "version": 3
   },
   "file_extension": ".py",
   "mimetype": "text/x-python",
   "name": "python",
   "nbconvert_exporter": "python",
   "pygments_lexer": "ipython3",
   "version": "3.8.5"
  }
 },
 "nbformat": 4,
 "nbformat_minor": 4
}
